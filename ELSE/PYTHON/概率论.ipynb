{
 "cells": [
  {
   "cell_type": "code",
   "execution_count": 1,
   "metadata": {},
   "outputs": [
    {
     "name": "stdout",
     "output_type": "stream",
     "text": [
      "5.0 10.55\n"
     ]
    }
   ],
   "source": [
    "x=[6,5,8,1,4,7,6,3,3,7]\n",
    "y=[12.3,10.4,13.5,3,8.1,16.3,12.3,6.2,6.6,16.8]\n",
    "x_mean,y_mean=0,0\n",
    "x_mean=sum(x)/x.__len__()\n",
    "y_mean=sum(y)/y.__len__()\n",
    "# x.__len__()\n",
    "# y.__len__()\n",
    "print(x_mean,y_mean)"
   ]
  },
  {
   "cell_type": "code",
   "execution_count": 2,
   "metadata": {},
   "outputs": [
    {
     "data": {
      "text/plain": [
       "85.60000000000001"
      ]
     },
     "execution_count": 2,
     "metadata": {},
     "output_type": "execute_result"
    }
   ],
   "source": [
    "zi = 0\n",
    "for i in range(x.__len__()):\n",
    "    zi += (x[i]-x_mean)*(y[i]-y_mean)\n",
    "zi"
   ]
  },
  {
   "cell_type": "code",
   "execution_count": 6,
   "metadata": {},
   "outputs": [
    {
     "name": "stdout",
     "output_type": "stream",
     "text": [
      "6.6332495807108\n",
      "13.583261758502633\n"
     ]
    },
    {
     "data": {
      "text/plain": [
       "0.9500432059222017"
      ]
     },
     "execution_count": 6,
     "metadata": {},
     "output_type": "execute_result"
    }
   ],
   "source": [
    "mux = 0\n",
    "for i in range(x.__len__()):\n",
    "    mux += (x[i]-x_mean)**2\n",
    "# print(mux)\n",
    "mux = mux**0.5\n",
    "print(mux)\n",
    "\n",
    "muy = 0\n",
    "for i in range(y.__len__()):\n",
    "    muy += (y[i]-y_mean)**2\n",
    "muy = muy**0.5\n",
    "print(muy)\n",
    "r = zi/(mux*muy)\n",
    "r"
   ]
  },
  {
   "cell_type": "code",
   "execution_count": null,
   "metadata": {},
   "outputs": [],
   "source": []
  }
 ],
 "metadata": {
  "kernelspec": {
   "display_name": "Python 3",
   "language": "python",
   "name": "python3"
  },
  "language_info": {
   "codemirror_mode": {
    "name": "ipython",
    "version": 3
   },
   "file_extension": ".py",
   "mimetype": "text/x-python",
   "name": "python",
   "nbconvert_exporter": "python",
   "pygments_lexer": "ipython3",
   "version": "3.10.10"
  },
  "orig_nbformat": 4
 },
 "nbformat": 4,
 "nbformat_minor": 2
}
