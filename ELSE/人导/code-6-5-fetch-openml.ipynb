{
 "cells": [
  {
   "attachments": {},
   "cell_type": "markdown",
   "metadata": {},
   "source": [
    "# -*- coding: utf-8 -*-\n",
    "#code-7-5.py\n",
    "#用MLP识别MNIST字符"
   ]
  },
  {
   "cell_type": "code",
   "execution_count": 1,
   "metadata": {},
   "outputs": [],
   "source": [
    "import numpy as np\n",
    "import matplotlib.pyplot as plt\n",
    "from sklearn.datasets import fetch_openml\n",
    "from sklearn.neural_network import MLPClassifier\n",
    "from sklearn.metrics import classification_report\n",
    "from sklearn.model_selection import learning_curve\n",
    "plt.rcParams['font.family'] = 'SimHei'  # 设置字体为中文字体，如宋体、黑体等"
   ]
  },
  {
   "attachments": {},
   "cell_type": "markdown",
   "metadata": {},
   "source": [
    "## 绘制学习曲线的函数\n",
    "- plt.title(title): 设置图像的标题。\n",
    "- if ylim is not None: plt.ylim(*ylim): 如果给定了y轴的取值范围限制ylim，则将y轴的范围设置为ylim。\n",
    "- plt.xlabel(\"Training examples\")和plt.ylabel(\"Score\"): 设置x轴和y轴的标题。\n",
    "- train_sizes, train_scores, test_scores = learning_curve(estimator, X, y, cv=cv, n_jobs=n_jobs, train_sizes=train_sizes): 使用learning_curve函数计算不同训练集大小下的训练得分和测试得分。\n",
    "- train_scores_mean = np.mean(train_scores, axis=1)和train_scores_std = np.std(train_scores, axis=1): 计算训练得分的平均值和标准差。\n",
    "- test_scores_mean = np.mean(test_scores, axis=1)和test_scores_std = np.std(test_scores, axis=1): 计算测试得分的平均值和标准差。\n",
    "- plt.grid(): 设置背景为网格线。\n",
    "- plt.fill_between(train_sizes, train_scores_mean-train_scores_std, train_scores_mean+train_scores_std, alpha=0.1, color='r'): 使用fill_between函数在图像中填充训练得分的平均值的上下方差空间，用红色标识。\n",
    "- plt.fill_between(train_sizes, test_scores_mean-test_scores_std, test_scores_mean+test_scores_std, alpha=0.1, color='g'): 使用fill_between函数在图像中填充测试得分的平均值的上下方差空间，用绿色标识。\n",
    "- plt.plot(train_sizes, train_scores_mean, 'o-', color='r', label='Training score'): 使用plot函数绘制训练得分的平均值曲线，用红色圆点线表示。\n",
    "- plt.plot(train_sizes, test_scores_mean, 'o-', color='g', label='Cross_validation score'): 使用plot函数绘制测试得分的平均值曲线，用绿色圆点线表示。\n",
    "- plt.legend(loc='best'): 在最佳位置显示图例。"
   ]
  },
  {
   "cell_type": "code",
   "execution_count": 2,
   "metadata": {},
   "outputs": [],
   "source": [
    "# estimator: 使用的机器学习模型\n",
    "# title: 图像的标题\n",
    "# X: 特征数据\n",
    "# y: 目标数据\n",
    "# ylim: y轴的取值范围限制\n",
    "# cv: 交叉验证的折数\n",
    "# n_jobs: 并行运行的作业数\n",
    "# train_sizes: 训练集的大小，使用np.linspace函数生成从0.1到1.0之间的5个等间隔值\n",
    "def plot_learning_curve(estimator,title,X,y,ylim=None,cv=None,n_jobs=1,train_sizes=np.linspace(0.1,1.0,5)):\n",
    "    plt.title(title)#图像标题\n",
    "    if ylim is not None:#y轴限制不为空时\n",
    "        plt.ylim(*ylim)\n",
    "    plt.xlabel(\"Training examples\")#两个标题\n",
    "    plt.ylabel(\"Score\")\n",
    "    train_sizes,train_scores,test_scores=learning_curve(estimator,X,y,cv=cv,n_jobs=n_jobs,train_sizes=train_sizes)#获取训练集大小，训练得分集合，测试得分集合\n",
    "    train_scores_mean=np.mean(train_scores,axis=1)#将训练得分集合按行的到平均值\n",
    "    train_scores_std=np.std(train_scores,axis=1)#计算训练矩阵的标准方差\n",
    "    test_scores_mean=np.mean(test_scores,axis=1)\n",
    "    test_scores_std=np.std(test_scores,axis=1)\n",
    "    plt.grid()#背景设置为网格线\n",
    "    \n",
    "    plt.fill_between(train_sizes,train_scores_mean-train_scores_std,train_scores_mean+train_scores_std,alpha=0.1,color='r')\n",
    "    # plt.fill_between()函数会把模型准确性的平均值的上下方差的空间里用颜色填充。\n",
    "    plt.fill_between(train_sizes,test_scores_mean-test_scores_std,test_scores_mean+test_scores_std,alpha=0.1,color='g')\n",
    "    plt.plot(train_sizes,train_scores_mean,'o-',color='r',label='Training score')\n",
    "    # 然后用plt.plot()函数画出模型准确性的平均值\n",
    "    plt.plot(train_sizes,test_scores_mean,'o-',color='g',label='Cross_validation score')\n",
    "    plt.legend(loc='best')#显示图例\n",
    "    return plt\n",
    "    "
   ]
  },
  {
   "cell_type": "markdown",
   "metadata": {},
   "source": [
    "## 获取MNIST数据集"
   ]
  },
  {
   "cell_type": "code",
   "execution_count": 3,
   "metadata": {},
   "outputs": [],
   "source": [
    "#获取MNIST数据集\n",
    "mnist = fetch_openml('mnist_784', version=1)\n",
    "#获取特征和目标值\n",
    "X = mnist.data\n",
    "y = mnist.target\n",
    "#像素灰度值归一化\n",
    "X = X / 255."
   ]
  },
  {
   "attachments": {},
   "cell_type": "markdown",
   "metadata": {},
   "source": [
    "## 分割训练集和测试集，并定义MLP模型\n",
    "- 将特征数据集X和目标数据集y分割成训练集和测试集。训练集包括前60000个样本，而测试集包括从第60000个样本开始的剩余样本。\n",
    "\n",
    "- 定义了一个多层感知器（MLP）模型，使用了1个隐含层和50个隐含节点。MLP是一种人工神经网络模型，它由多个神经元层组成，每个神经元层与下一层全连接。\n",
    "\n",
    "- 模型的训练周期（即迭代次数）设置为10，采用随机梯度下降（SGD）算法进行优化。学习率初始化为0.1，控制模型参数的更新步长。"
   ]
  },
  {
   "cell_type": "code",
   "execution_count": 4,
   "metadata": {},
   "outputs": [],
   "source": [
    "# 分割训练集和测试集\n",
    "X_train, X_test = X[:60000], X[60000:]\n",
    "y_train, y_test = y[:60000], y[60000:]\n",
    "#定义MLP模型，1个隐含层，含50个隐结点，训练周期为10\n",
    "#采用SGD算法，学习率0.1\n",
    "mlp = MLPClassifier(hidden_layer_sizes=(50), max_iter=10, \n",
    "                    solver='sgd', verbose=10, random_state=1,\n",
    "                    learning_rate_init=.1)"
   ]
  },
  {
   "attachments": {},
   "cell_type": "markdown",
   "metadata": {},
   "source": [
    "## 训练MLP模型，评估性能并显示分类报告\n",
    "- mlp.fit(X_train, y_train)：这行代码用训练集（X_train和y_train）对MLP模型进行训练。模型将根据训练数据学习权重和偏差，以便进行准确的预测。\n",
    "\n",
    "- mlp.score(X_train, y_train)：这行代码计算并输出了模型在训练集上的得分（准确率）。该得分表示模型在训练集上正确预测的比例。\n",
    "\n",
    "- mlp.score(X_test, y_test)：这行代码计算并输出了模型在测试集上的得分（准确率）。该得分表示模型在测试集上正确预测的比例。\n",
    "\n",
    "- classification_report(y_test, mlp.predict(X_test))：这行代码生成并打印了一个分类报告，其中包含了模型在测试集上每个类别的准确率、召回率、F1分数等评估指标。y_test是真实的标签，mlp.predict(X_test)是模型对测试集样本的预测结果。"
   ]
  },
  {
   "cell_type": "code",
   "execution_count": 5,
   "metadata": {},
   "outputs": [
    {
     "name": "stdout",
     "output_type": "stream",
     "text": [
      "Iteration 1, loss = 0.32009978\n",
      "Iteration 2, loss = 0.15347534\n",
      "Iteration 3, loss = 0.11544755\n",
      "Iteration 4, loss = 0.09279764\n",
      "Iteration 5, loss = 0.07889367\n",
      "Iteration 6, loss = 0.07170497\n",
      "Iteration 7, loss = 0.06282111\n",
      "Iteration 8, loss = 0.05530788\n",
      "Iteration 9, loss = 0.04960484\n",
      "Iteration 10, loss = 0.04645355\n"
     ]
    },
    {
     "name": "stderr",
     "output_type": "stream",
     "text": [
      "/home/stu_wxy/anaconda3/envs/Ai/lib/python3.10/site-packages/sklearn/neural_network/_multilayer_perceptron.py:702: ConvergenceWarning: Stochastic Optimizer: Maximum iterations (10) reached and the optimization hasn't converged yet.\n",
      "  warnings.warn(\n"
     ]
    },
    {
     "name": "stdout",
     "output_type": "stream",
     "text": [
      "训练集得分: 0.986800\n",
      "测试集得分: 0.970000\n",
      "              precision    recall  f1-score   support\n",
      "\n",
      "           0       0.98      0.98      0.98       980\n",
      "           1       0.99      0.99      0.99      1135\n",
      "           2       0.97      0.96      0.97      1032\n",
      "           3       0.95      0.97      0.96      1010\n",
      "           4       0.98      0.97      0.97       982\n",
      "           5       0.97      0.96      0.97       892\n",
      "           6       0.97      0.98      0.97       958\n",
      "           7       0.96      0.97      0.97      1028\n",
      "           8       0.98      0.95      0.96       974\n",
      "           9       0.95      0.97      0.96      1009\n",
      "\n",
      "    accuracy                           0.97     10000\n",
      "   macro avg       0.97      0.97      0.97     10000\n",
      "weighted avg       0.97      0.97      0.97     10000\n",
      "\n"
     ]
    }
   ],
   "source": [
    "mlp.fit(X_train, y_train)\n",
    "print(\"训练集得分: %f\" % mlp.score(X_train, y_train))\n",
    "print(\"测试集得分: %f\" % mlp.score(X_test, y_test))\n",
    "print(classification_report(y_test, mlp.predict(X_test)))"
   ]
  },
  {
   "attachments": {},
   "cell_type": "markdown",
   "metadata": {},
   "source": [
    "## 绘制学习曲线\n",
    "- mlp：训练好的MLP模型，用于绘制学习曲线。\n",
    "- '学习曲线'：图像的标题，将显示在绘图中。\n",
    "- X：特征数据集。\n",
    "- y：目标数据集。\n",
    "- ylim=(0.1, 1.01)：y轴的取值范围限制，这里设置为(0.1, 1.01)。"
   ]
  },
  {
   "cell_type": "code",
   "execution_count": 6,
   "metadata": {},
   "outputs": [
    {
     "name": "stdout",
     "output_type": "stream",
     "text": [
      "Iteration 1, loss = 0.92847683\n",
      "Iteration 2, loss = 0.36426012\n",
      "Iteration 3, loss = 0.27696218\n",
      "Iteration 4, loss = 0.22954860\n",
      "Iteration 5, loss = 0.19552531\n",
      "Iteration 6, loss = 0.16538064\n",
      "Iteration 7, loss = 0.14122064\n",
      "Iteration 8, loss = 0.12040514\n",
      "Iteration 9, loss = 0.10494098\n",
      "Iteration 10, loss = 0.08824342\n"
     ]
    },
    {
     "name": "stderr",
     "output_type": "stream",
     "text": [
      "/home/stu_wxy/anaconda3/envs/Ai/lib/python3.10/site-packages/sklearn/neural_network/_multilayer_perceptron.py:702: ConvergenceWarning: Stochastic Optimizer: Maximum iterations (10) reached and the optimization hasn't converged yet.\n",
      "  warnings.warn(\n"
     ]
    },
    {
     "name": "stdout",
     "output_type": "stream",
     "text": [
      "Iteration 1, loss = 0.53184259\n",
      "Iteration 2, loss = 0.25018873\n",
      "Iteration 3, loss = 0.18826517\n",
      "Iteration 4, loss = 0.15250220\n",
      "Iteration 5, loss = 0.12770285\n",
      "Iteration 6, loss = 0.10512397\n",
      "Iteration 7, loss = 0.09141866\n",
      "Iteration 8, loss = 0.07742120\n",
      "Iteration 9, loss = 0.06577267\n",
      "Iteration 10, loss = 0.05698748\n"
     ]
    },
    {
     "name": "stderr",
     "output_type": "stream",
     "text": [
      "/home/stu_wxy/anaconda3/envs/Ai/lib/python3.10/site-packages/sklearn/neural_network/_multilayer_perceptron.py:702: ConvergenceWarning: Stochastic Optimizer: Maximum iterations (10) reached and the optimization hasn't converged yet.\n",
      "  warnings.warn(\n"
     ]
    },
    {
     "name": "stdout",
     "output_type": "stream",
     "text": [
      "Iteration 1, loss = 0.42602549\n",
      "Iteration 2, loss = 0.19870415\n",
      "Iteration 3, loss = 0.14913090\n",
      "Iteration 4, loss = 0.11957041\n",
      "Iteration 5, loss = 0.09943671\n",
      "Iteration 6, loss = 0.08545404\n",
      "Iteration 7, loss = 0.07190709\n",
      "Iteration 8, loss = 0.06276560\n",
      "Iteration 9, loss = 0.05430212\n",
      "Iteration 10, loss = 0.04850841\n"
     ]
    },
    {
     "name": "stderr",
     "output_type": "stream",
     "text": [
      "/home/stu_wxy/anaconda3/envs/Ai/lib/python3.10/site-packages/sklearn/neural_network/_multilayer_perceptron.py:702: ConvergenceWarning: Stochastic Optimizer: Maximum iterations (10) reached and the optimization hasn't converged yet.\n",
      "  warnings.warn(\n"
     ]
    },
    {
     "name": "stdout",
     "output_type": "stream",
     "text": [
      "Iteration 1, loss = 0.36810977\n",
      "Iteration 2, loss = 0.17904204\n",
      "Iteration 3, loss = 0.13617391\n",
      "Iteration 4, loss = 0.11051072\n",
      "Iteration 5, loss = 0.09241599\n",
      "Iteration 6, loss = 0.08007734\n",
      "Iteration 7, loss = 0.07039449\n",
      "Iteration 8, loss = 0.06290828\n",
      "Iteration 9, loss = 0.05621400\n",
      "Iteration 10, loss = 0.05002507\n"
     ]
    },
    {
     "name": "stderr",
     "output_type": "stream",
     "text": [
      "/home/stu_wxy/anaconda3/envs/Ai/lib/python3.10/site-packages/sklearn/neural_network/_multilayer_perceptron.py:702: ConvergenceWarning: Stochastic Optimizer: Maximum iterations (10) reached and the optimization hasn't converged yet.\n",
      "  warnings.warn(\n"
     ]
    },
    {
     "name": "stdout",
     "output_type": "stream",
     "text": [
      "Iteration 1, loss = 0.32817991\n",
      "Iteration 2, loss = 0.15721665\n",
      "Iteration 3, loss = 0.11808366\n",
      "Iteration 4, loss = 0.09831911\n",
      "Iteration 5, loss = 0.08243663\n",
      "Iteration 6, loss = 0.07224013\n",
      "Iteration 7, loss = 0.06258116\n",
      "Iteration 8, loss = 0.05723998\n",
      "Iteration 9, loss = 0.05220361\n",
      "Iteration 10, loss = 0.04713171\n"
     ]
    },
    {
     "name": "stderr",
     "output_type": "stream",
     "text": [
      "/home/stu_wxy/anaconda3/envs/Ai/lib/python3.10/site-packages/sklearn/neural_network/_multilayer_perceptron.py:702: ConvergenceWarning: Stochastic Optimizer: Maximum iterations (10) reached and the optimization hasn't converged yet.\n",
      "  warnings.warn(\n"
     ]
    },
    {
     "name": "stdout",
     "output_type": "stream",
     "text": [
      "Iteration 1, loss = 0.86776282\n",
      "Iteration 2, loss = 0.33559040\n",
      "Iteration 3, loss = 0.25639434\n",
      "Iteration 4, loss = 0.21325686\n",
      "Iteration 5, loss = 0.18043673\n",
      "Iteration 6, loss = 0.15390556\n",
      "Iteration 7, loss = 0.13291540\n",
      "Iteration 8, loss = 0.11193104\n",
      "Iteration 9, loss = 0.09776659\n",
      "Iteration 10, loss = 0.08492764\n"
     ]
    },
    {
     "name": "stderr",
     "output_type": "stream",
     "text": [
      "/home/stu_wxy/anaconda3/envs/Ai/lib/python3.10/site-packages/sklearn/neural_network/_multilayer_perceptron.py:702: ConvergenceWarning: Stochastic Optimizer: Maximum iterations (10) reached and the optimization hasn't converged yet.\n",
      "  warnings.warn(\n"
     ]
    },
    {
     "name": "stdout",
     "output_type": "stream",
     "text": [
      "Iteration 1, loss = 0.52933344\n",
      "Iteration 2, loss = 0.24532018\n",
      "Iteration 3, loss = 0.18596942\n",
      "Iteration 4, loss = 0.14921690\n",
      "Iteration 5, loss = 0.12078564\n",
      "Iteration 6, loss = 0.10302481\n",
      "Iteration 7, loss = 0.08678175\n",
      "Iteration 8, loss = 0.07343983\n",
      "Iteration 9, loss = 0.06301519\n",
      "Iteration 10, loss = 0.05357177\n"
     ]
    },
    {
     "name": "stderr",
     "output_type": "stream",
     "text": [
      "/home/stu_wxy/anaconda3/envs/Ai/lib/python3.10/site-packages/sklearn/neural_network/_multilayer_perceptron.py:702: ConvergenceWarning: Stochastic Optimizer: Maximum iterations (10) reached and the optimization hasn't converged yet.\n",
      "  warnings.warn(\n"
     ]
    },
    {
     "name": "stdout",
     "output_type": "stream",
     "text": [
      "Iteration 1, loss = 0.42544757\n",
      "Iteration 2, loss = 0.20245505\n",
      "Iteration 3, loss = 0.15111248\n",
      "Iteration 4, loss = 0.12107416\n",
      "Iteration 5, loss = 0.10041214\n",
      "Iteration 6, loss = 0.08466474\n",
      "Iteration 7, loss = 0.07344495\n",
      "Iteration 8, loss = 0.06190134\n",
      "Iteration 9, loss = 0.05523645\n",
      "Iteration 10, loss = 0.04936720\n"
     ]
    },
    {
     "name": "stderr",
     "output_type": "stream",
     "text": [
      "/home/stu_wxy/anaconda3/envs/Ai/lib/python3.10/site-packages/sklearn/neural_network/_multilayer_perceptron.py:702: ConvergenceWarning: Stochastic Optimizer: Maximum iterations (10) reached and the optimization hasn't converged yet.\n",
      "  warnings.warn(\n"
     ]
    },
    {
     "name": "stdout",
     "output_type": "stream",
     "text": [
      "Iteration 1, loss = 0.36634279\n",
      "Iteration 2, loss = 0.17715181\n",
      "Iteration 3, loss = 0.13169364\n",
      "Iteration 4, loss = 0.10694955\n",
      "Iteration 5, loss = 0.09066095\n",
      "Iteration 6, loss = 0.07642754\n",
      "Iteration 7, loss = 0.06769080\n",
      "Iteration 8, loss = 0.05962171\n",
      "Iteration 9, loss = 0.05426006\n",
      "Iteration 10, loss = 0.04736861\n"
     ]
    },
    {
     "name": "stderr",
     "output_type": "stream",
     "text": [
      "/home/stu_wxy/anaconda3/envs/Ai/lib/python3.10/site-packages/sklearn/neural_network/_multilayer_perceptron.py:702: ConvergenceWarning: Stochastic Optimizer: Maximum iterations (10) reached and the optimization hasn't converged yet.\n",
      "  warnings.warn(\n"
     ]
    },
    {
     "name": "stdout",
     "output_type": "stream",
     "text": [
      "Iteration 1, loss = 0.32912405\n",
      "Iteration 2, loss = 0.15931694\n",
      "Iteration 3, loss = 0.11931734\n",
      "Iteration 4, loss = 0.09885455\n",
      "Iteration 5, loss = 0.08292791\n",
      "Iteration 6, loss = 0.07239752\n",
      "Iteration 7, loss = 0.06360638\n",
      "Iteration 8, loss = 0.05743776\n",
      "Iteration 9, loss = 0.05046039\n",
      "Iteration 10, loss = 0.04670490\n"
     ]
    },
    {
     "name": "stderr",
     "output_type": "stream",
     "text": [
      "/home/stu_wxy/anaconda3/envs/Ai/lib/python3.10/site-packages/sklearn/neural_network/_multilayer_perceptron.py:702: ConvergenceWarning: Stochastic Optimizer: Maximum iterations (10) reached and the optimization hasn't converged yet.\n",
      "  warnings.warn(\n"
     ]
    },
    {
     "name": "stdout",
     "output_type": "stream",
     "text": [
      "Iteration 1, loss = 0.86776282\n",
      "Iteration 2, loss = 0.33559040\n",
      "Iteration 3, loss = 0.25639434\n",
      "Iteration 4, loss = 0.21325686\n",
      "Iteration 5, loss = 0.18043673\n",
      "Iteration 6, loss = 0.15390556\n",
      "Iteration 7, loss = 0.13291540\n",
      "Iteration 8, loss = 0.11193104\n",
      "Iteration 9, loss = 0.09776659\n",
      "Iteration 10, loss = 0.08492764\n"
     ]
    },
    {
     "name": "stderr",
     "output_type": "stream",
     "text": [
      "/home/stu_wxy/anaconda3/envs/Ai/lib/python3.10/site-packages/sklearn/neural_network/_multilayer_perceptron.py:702: ConvergenceWarning: Stochastic Optimizer: Maximum iterations (10) reached and the optimization hasn't converged yet.\n",
      "  warnings.warn(\n"
     ]
    },
    {
     "name": "stdout",
     "output_type": "stream",
     "text": [
      "Iteration 1, loss = 0.52183844\n",
      "Iteration 2, loss = 0.24417397\n",
      "Iteration 3, loss = 0.18459872\n",
      "Iteration 4, loss = 0.15021700\n",
      "Iteration 5, loss = 0.12287745\n",
      "Iteration 6, loss = 0.10576869\n",
      "Iteration 7, loss = 0.08987797\n",
      "Iteration 8, loss = 0.07718947\n",
      "Iteration 9, loss = 0.06741365\n",
      "Iteration 10, loss = 0.05769676\n"
     ]
    },
    {
     "name": "stderr",
     "output_type": "stream",
     "text": [
      "/home/stu_wxy/anaconda3/envs/Ai/lib/python3.10/site-packages/sklearn/neural_network/_multilayer_perceptron.py:702: ConvergenceWarning: Stochastic Optimizer: Maximum iterations (10) reached and the optimization hasn't converged yet.\n",
      "  warnings.warn(\n"
     ]
    },
    {
     "name": "stdout",
     "output_type": "stream",
     "text": [
      "Iteration 1, loss = 0.42109629\n",
      "Iteration 2, loss = 0.19955730\n",
      "Iteration 3, loss = 0.14783286\n",
      "Iteration 4, loss = 0.12005346\n",
      "Iteration 5, loss = 0.09930693\n",
      "Iteration 6, loss = 0.08623390\n",
      "Iteration 7, loss = 0.07416927\n",
      "Iteration 8, loss = 0.06595771\n",
      "Iteration 9, loss = 0.05601146\n",
      "Iteration 10, loss = 0.04914449\n"
     ]
    },
    {
     "name": "stderr",
     "output_type": "stream",
     "text": [
      "/home/stu_wxy/anaconda3/envs/Ai/lib/python3.10/site-packages/sklearn/neural_network/_multilayer_perceptron.py:702: ConvergenceWarning: Stochastic Optimizer: Maximum iterations (10) reached and the optimization hasn't converged yet.\n",
      "  warnings.warn(\n"
     ]
    },
    {
     "name": "stdout",
     "output_type": "stream",
     "text": [
      "Iteration 1, loss = 0.36170586\n",
      "Iteration 2, loss = 0.17507275\n",
      "Iteration 3, loss = 0.13131795\n",
      "Iteration 4, loss = 0.10614607\n",
      "Iteration 5, loss = 0.08898812\n",
      "Iteration 6, loss = 0.07741397\n",
      "Iteration 7, loss = 0.06676295\n",
      "Iteration 8, loss = 0.05929872\n",
      "Iteration 9, loss = 0.05333595\n",
      "Iteration 10, loss = 0.04743625\n"
     ]
    },
    {
     "name": "stderr",
     "output_type": "stream",
     "text": [
      "/home/stu_wxy/anaconda3/envs/Ai/lib/python3.10/site-packages/sklearn/neural_network/_multilayer_perceptron.py:702: ConvergenceWarning: Stochastic Optimizer: Maximum iterations (10) reached and the optimization hasn't converged yet.\n",
      "  warnings.warn(\n"
     ]
    },
    {
     "name": "stdout",
     "output_type": "stream",
     "text": [
      "Iteration 1, loss = 0.32340128\n",
      "Iteration 2, loss = 0.15669574\n",
      "Iteration 3, loss = 0.11890085\n",
      "Iteration 4, loss = 0.09789704\n",
      "Iteration 5, loss = 0.08258731\n",
      "Iteration 6, loss = 0.07155856\n",
      "Iteration 7, loss = 0.06250955\n",
      "Iteration 8, loss = 0.05754445\n",
      "Iteration 9, loss = 0.05073069\n",
      "Iteration 10, loss = 0.04654131\n"
     ]
    },
    {
     "name": "stderr",
     "output_type": "stream",
     "text": [
      "/home/stu_wxy/anaconda3/envs/Ai/lib/python3.10/site-packages/sklearn/neural_network/_multilayer_perceptron.py:702: ConvergenceWarning: Stochastic Optimizer: Maximum iterations (10) reached and the optimization hasn't converged yet.\n",
      "  warnings.warn(\n"
     ]
    },
    {
     "name": "stdout",
     "output_type": "stream",
     "text": [
      "Iteration 1, loss = 0.86776282\n",
      "Iteration 2, loss = 0.33559040\n",
      "Iteration 3, loss = 0.25639434\n",
      "Iteration 4, loss = 0.21325686\n",
      "Iteration 5, loss = 0.18043673\n",
      "Iteration 6, loss = 0.15390556\n",
      "Iteration 7, loss = 0.13291540\n",
      "Iteration 8, loss = 0.11193104\n",
      "Iteration 9, loss = 0.09776659\n",
      "Iteration 10, loss = 0.08492764\n"
     ]
    },
    {
     "name": "stderr",
     "output_type": "stream",
     "text": [
      "/home/stu_wxy/anaconda3/envs/Ai/lib/python3.10/site-packages/sklearn/neural_network/_multilayer_perceptron.py:702: ConvergenceWarning: Stochastic Optimizer: Maximum iterations (10) reached and the optimization hasn't converged yet.\n",
      "  warnings.warn(\n"
     ]
    },
    {
     "name": "stdout",
     "output_type": "stream",
     "text": [
      "Iteration 1, loss = 0.52183844\n",
      "Iteration 2, loss = 0.24417397\n",
      "Iteration 3, loss = 0.18459872\n",
      "Iteration 4, loss = 0.15021700\n",
      "Iteration 5, loss = 0.12287745\n",
      "Iteration 6, loss = 0.10576869\n",
      "Iteration 7, loss = 0.08987797\n",
      "Iteration 8, loss = 0.07718947\n",
      "Iteration 9, loss = 0.06741365\n",
      "Iteration 10, loss = 0.05769676\n"
     ]
    },
    {
     "name": "stderr",
     "output_type": "stream",
     "text": [
      "/home/stu_wxy/anaconda3/envs/Ai/lib/python3.10/site-packages/sklearn/neural_network/_multilayer_perceptron.py:702: ConvergenceWarning: Stochastic Optimizer: Maximum iterations (10) reached and the optimization hasn't converged yet.\n",
      "  warnings.warn(\n"
     ]
    },
    {
     "name": "stdout",
     "output_type": "stream",
     "text": [
      "Iteration 1, loss = 0.41909586\n",
      "Iteration 2, loss = 0.19821641\n",
      "Iteration 3, loss = 0.14923728\n",
      "Iteration 4, loss = 0.12179897\n",
      "Iteration 5, loss = 0.10130215\n",
      "Iteration 6, loss = 0.08719502\n",
      "Iteration 7, loss = 0.07421189\n",
      "Iteration 8, loss = 0.06554629\n",
      "Iteration 9, loss = 0.05604526\n",
      "Iteration 10, loss = 0.05019750\n"
     ]
    },
    {
     "name": "stderr",
     "output_type": "stream",
     "text": [
      "/home/stu_wxy/anaconda3/envs/Ai/lib/python3.10/site-packages/sklearn/neural_network/_multilayer_perceptron.py:702: ConvergenceWarning: Stochastic Optimizer: Maximum iterations (10) reached and the optimization hasn't converged yet.\n",
      "  warnings.warn(\n"
     ]
    },
    {
     "name": "stdout",
     "output_type": "stream",
     "text": [
      "Iteration 1, loss = 0.36330390\n",
      "Iteration 2, loss = 0.17336155\n",
      "Iteration 3, loss = 0.12837716\n",
      "Iteration 4, loss = 0.10331013\n",
      "Iteration 5, loss = 0.08708097\n",
      "Iteration 6, loss = 0.07504888\n",
      "Iteration 7, loss = 0.06511601\n",
      "Iteration 8, loss = 0.05665129\n",
      "Iteration 9, loss = 0.04990184\n",
      "Iteration 10, loss = 0.04385401\n"
     ]
    },
    {
     "name": "stderr",
     "output_type": "stream",
     "text": [
      "/home/stu_wxy/anaconda3/envs/Ai/lib/python3.10/site-packages/sklearn/neural_network/_multilayer_perceptron.py:702: ConvergenceWarning: Stochastic Optimizer: Maximum iterations (10) reached and the optimization hasn't converged yet.\n",
      "  warnings.warn(\n"
     ]
    },
    {
     "name": "stdout",
     "output_type": "stream",
     "text": [
      "Iteration 1, loss = 0.32203470\n",
      "Iteration 2, loss = 0.15358235\n",
      "Iteration 3, loss = 0.11688160\n",
      "Iteration 4, loss = 0.09574076\n",
      "Iteration 5, loss = 0.08217601\n",
      "Iteration 6, loss = 0.07017785\n",
      "Iteration 7, loss = 0.06279693\n",
      "Iteration 8, loss = 0.05508218\n",
      "Iteration 9, loss = 0.04950488\n",
      "Iteration 10, loss = 0.04494384\n"
     ]
    },
    {
     "name": "stderr",
     "output_type": "stream",
     "text": [
      "/home/stu_wxy/anaconda3/envs/Ai/lib/python3.10/site-packages/sklearn/neural_network/_multilayer_perceptron.py:702: ConvergenceWarning: Stochastic Optimizer: Maximum iterations (10) reached and the optimization hasn't converged yet.\n",
      "  warnings.warn(\n"
     ]
    },
    {
     "name": "stdout",
     "output_type": "stream",
     "text": [
      "Iteration 1, loss = 0.86776282\n",
      "Iteration 2, loss = 0.33559040\n",
      "Iteration 3, loss = 0.25639434\n",
      "Iteration 4, loss = 0.21325686\n",
      "Iteration 5, loss = 0.18043673\n",
      "Iteration 6, loss = 0.15390556\n",
      "Iteration 7, loss = 0.13291540\n",
      "Iteration 8, loss = 0.11193104\n",
      "Iteration 9, loss = 0.09776659\n",
      "Iteration 10, loss = 0.08492764\n"
     ]
    },
    {
     "name": "stderr",
     "output_type": "stream",
     "text": [
      "/home/stu_wxy/anaconda3/envs/Ai/lib/python3.10/site-packages/sklearn/neural_network/_multilayer_perceptron.py:702: ConvergenceWarning: Stochastic Optimizer: Maximum iterations (10) reached and the optimization hasn't converged yet.\n",
      "  warnings.warn(\n"
     ]
    },
    {
     "name": "stdout",
     "output_type": "stream",
     "text": [
      "Iteration 1, loss = 0.52183844\n",
      "Iteration 2, loss = 0.24417397\n",
      "Iteration 3, loss = 0.18459872\n",
      "Iteration 4, loss = 0.15021700\n",
      "Iteration 5, loss = 0.12287745\n",
      "Iteration 6, loss = 0.10576869\n",
      "Iteration 7, loss = 0.08987797\n",
      "Iteration 8, loss = 0.07718947\n",
      "Iteration 9, loss = 0.06741365\n",
      "Iteration 10, loss = 0.05769676\n"
     ]
    },
    {
     "name": "stderr",
     "output_type": "stream",
     "text": [
      "/home/stu_wxy/anaconda3/envs/Ai/lib/python3.10/site-packages/sklearn/neural_network/_multilayer_perceptron.py:702: ConvergenceWarning: Stochastic Optimizer: Maximum iterations (10) reached and the optimization hasn't converged yet.\n",
      "  warnings.warn(\n"
     ]
    },
    {
     "name": "stdout",
     "output_type": "stream",
     "text": [
      "Iteration 1, loss = 0.41909586\n",
      "Iteration 2, loss = 0.19821641\n",
      "Iteration 3, loss = 0.14923728\n",
      "Iteration 4, loss = 0.12179897\n",
      "Iteration 5, loss = 0.10130215\n",
      "Iteration 6, loss = 0.08719502\n",
      "Iteration 7, loss = 0.07421189\n",
      "Iteration 8, loss = 0.06554629\n",
      "Iteration 9, loss = 0.05604526\n",
      "Iteration 10, loss = 0.05019750\n"
     ]
    },
    {
     "name": "stderr",
     "output_type": "stream",
     "text": [
      "/home/stu_wxy/anaconda3/envs/Ai/lib/python3.10/site-packages/sklearn/neural_network/_multilayer_perceptron.py:702: ConvergenceWarning: Stochastic Optimizer: Maximum iterations (10) reached and the optimization hasn't converged yet.\n",
      "  warnings.warn(\n"
     ]
    },
    {
     "name": "stdout",
     "output_type": "stream",
     "text": [
      "Iteration 1, loss = 0.36487747\n",
      "Iteration 2, loss = 0.17405236\n",
      "Iteration 3, loss = 0.12954579\n",
      "Iteration 4, loss = 0.10490883\n",
      "Iteration 5, loss = 0.08886729\n",
      "Iteration 6, loss = 0.07568321\n",
      "Iteration 7, loss = 0.06537523\n",
      "Iteration 8, loss = 0.05742827\n",
      "Iteration 9, loss = 0.05057286\n",
      "Iteration 10, loss = 0.04419753\n"
     ]
    },
    {
     "name": "stderr",
     "output_type": "stream",
     "text": [
      "/home/stu_wxy/anaconda3/envs/Ai/lib/python3.10/site-packages/sklearn/neural_network/_multilayer_perceptron.py:702: ConvergenceWarning: Stochastic Optimizer: Maximum iterations (10) reached and the optimization hasn't converged yet.\n",
      "  warnings.warn(\n"
     ]
    },
    {
     "name": "stdout",
     "output_type": "stream",
     "text": [
      "Iteration 1, loss = 0.33111374\n",
      "Iteration 2, loss = 0.15965087\n",
      "Iteration 3, loss = 0.11961027\n",
      "Iteration 4, loss = 0.09677512\n",
      "Iteration 5, loss = 0.08429765\n",
      "Iteration 6, loss = 0.07158456\n",
      "Iteration 7, loss = 0.06497925\n",
      "Iteration 8, loss = 0.05832347\n",
      "Iteration 9, loss = 0.05169443\n",
      "Iteration 10, loss = 0.04605703\n"
     ]
    },
    {
     "name": "stderr",
     "output_type": "stream",
     "text": [
      "/home/stu_wxy/anaconda3/envs/Ai/lib/python3.10/site-packages/sklearn/neural_network/_multilayer_perceptron.py:702: ConvergenceWarning: Stochastic Optimizer: Maximum iterations (10) reached and the optimization hasn't converged yet.\n",
      "  warnings.warn(\n"
     ]
    },
    {
     "data": {
      "text/plain": [
       "<module 'matplotlib.pyplot' from '/home/stu_wxy/anaconda3/envs/Ai/lib/python3.10/site-packages/matplotlib/pyplot.py'>"
      ]
     },
     "execution_count": 6,
     "metadata": {},
     "output_type": "execute_result"
    },
    {
     "name": "stderr",
     "output_type": "stream",
     "text": [
      "findfont: Font family 'SimHei' not found.\n",
      "findfont: Font family 'SimHei' not found.\n",
      "findfont: Font family 'SimHei' not found.\n",
      "findfont: Font family 'SimHei' not found.\n",
      "findfont: Font family 'SimHei' not found.\n",
      "findfont: Font family 'SimHei' not found.\n",
      "findfont: Font family 'SimHei' not found.\n",
      "findfont: Font family 'SimHei' not found.\n",
      "findfont: Font family 'SimHei' not found.\n",
      "findfont: Font family 'SimHei' not found.\n",
      "findfont: Font family 'SimHei' not found.\n",
      "findfont: Font family 'SimHei' not found.\n",
      "findfont: Font family 'SimHei' not found.\n",
      "findfont: Font family 'SimHei' not found.\n",
      "findfont: Font family 'SimHei' not found.\n",
      "findfont: Font family 'SimHei' not found.\n",
      "findfont: Font family 'SimHei' not found.\n",
      "findfont: Font family 'SimHei' not found.\n",
      "findfont: Font family 'SimHei' not found.\n",
      "findfont: Font family 'SimHei' not found.\n",
      "findfont: Font family 'SimHei' not found.\n",
      "findfont: Font family 'SimHei' not found.\n",
      "findfont: Font family 'SimHei' not found.\n",
      "findfont: Font family 'SimHei' not found.\n",
      "findfont: Font family 'SimHei' not found.\n",
      "findfont: Font family 'SimHei' not found.\n",
      "findfont: Font family 'SimHei' not found.\n",
      "findfont: Font family 'SimHei' not found.\n",
      "findfont: Font family 'SimHei' not found.\n",
      "findfont: Font family 'SimHei' not found.\n",
      "findfont: Font family 'SimHei' not found.\n",
      "findfont: Font family 'SimHei' not found.\n",
      "findfont: Font family 'SimHei' not found.\n",
      "findfont: Font family 'SimHei' not found.\n",
      "findfont: Font family 'SimHei' not found.\n",
      "findfont: Font family 'SimHei' not found.\n",
      "findfont: Font family 'SimHei' not found.\n",
      "findfont: Font family 'SimHei' not found.\n",
      "findfont: Font family 'SimHei' not found.\n",
      "findfont: Font family 'SimHei' not found.\n",
      "findfont: Font family 'SimHei' not found.\n",
      "findfont: Font family 'SimHei' not found.\n",
      "findfont: Font family 'SimHei' not found.\n",
      "findfont: Font family 'SimHei' not found.\n",
      "findfont: Font family 'SimHei' not found.\n",
      "findfont: Font family 'SimHei' not found.\n",
      "findfont: Font family 'SimHei' not found.\n",
      "findfont: Font family 'SimHei' not found.\n",
      "findfont: Font family 'SimHei' not found.\n",
      "findfont: Font family 'SimHei' not found.\n",
      "findfont: Font family 'SimHei' not found.\n",
      "findfont: Font family 'SimHei' not found.\n",
      "findfont: Font family 'SimHei' not found.\n",
      "findfont: Font family 'SimHei' not found.\n",
      "findfont: Font family 'SimHei' not found.\n",
      "findfont: Font family 'SimHei' not found.\n",
      "findfont: Font family 'SimHei' not found.\n",
      "findfont: Font family 'SimHei' not found.\n",
      "findfont: Font family 'SimHei' not found.\n",
      "findfont: Font family 'SimHei' not found.\n",
      "findfont: Font family 'SimHei' not found.\n",
      "findfont: Font family 'SimHei' not found.\n",
      "findfont: Font family 'SimHei' not found.\n",
      "findfont: Font family 'SimHei' not found.\n",
      "findfont: Font family 'SimHei' not found.\n",
      "findfont: Font family 'SimHei' not found.\n",
      "findfont: Font family 'SimHei' not found.\n",
      "findfont: Font family 'SimHei' not found.\n",
      "findfont: Font family 'SimHei' not found.\n",
      "findfont: Font family 'SimHei' not found.\n",
      "findfont: Font family 'SimHei' not found.\n",
      "findfont: Font family 'SimHei' not found.\n",
      "findfont: Font family 'SimHei' not found.\n",
      "findfont: Font family 'SimHei' not found.\n",
      "findfont: Font family 'SimHei' not found.\n",
      "findfont: Font family 'SimHei' not found.\n",
      "findfont: Font family 'SimHei' not found.\n",
      "findfont: Font family 'SimHei' not found.\n",
      "findfont: Font family 'SimHei' not found.\n",
      "findfont: Font family 'SimHei' not found.\n",
      "findfont: Font family 'SimHei' not found.\n",
      "findfont: Font family 'SimHei' not found.\n",
      "findfont: Font family 'SimHei' not found.\n",
      "findfont: Font family 'SimHei' not found.\n",
      "findfont: Font family 'SimHei' not found.\n",
      "findfont: Font family 'SimHei' not found.\n",
      "findfont: Font family 'SimHei' not found.\n",
      "findfont: Font family 'SimHei' not found.\n",
      "findfont: Font family 'SimHei' not found.\n",
      "findfont: Font family 'SimHei' not found.\n",
      "findfont: Font family 'SimHei' not found.\n",
      "findfont: Font family 'SimHei' not found.\n",
      "findfont: Font family 'SimHei' not found.\n",
      "findfont: Font family 'SimHei' not found.\n",
      "findfont: Font family 'SimHei' not found.\n",
      "findfont: Font family 'SimHei' not found.\n",
      "findfont: Font family 'SimHei' not found.\n",
      "findfont: Font family 'SimHei' not found.\n",
      "findfont: Font family 'SimHei' not found.\n",
      "findfont: Font family 'SimHei' not found.\n"
     ]
    },
    {
     "data": {
      "image/png": "[encoded data removed]",
      "text/plain": [
       "<Figure size 640x480 with 1 Axes>"
      ]
     },
     "metadata": {},
     "output_type": "display_data"
    }
   ],
   "source": [
    "plot_learning_curve(mlp, 'learning curve', X, y, ylim=(0.1, 1.01))"
   ]
  },
  {
   "attachments": {},
   "cell_type": "markdown",
   "metadata": {},
   "source": [
    "- 横轴表示训练样本数量，纵轴表示模型的得分（准确率）。\n",
    "- 训练得分曲线反映了模型在训练集上的性能随着样本数量增加的变化趋势。\n",
    "- 交叉验证得分曲线反映了模型在交叉验证集（这里使用的是默认的交叉验证方法）上的性能随着样本数量增加的变化趋势。"
   ]
  },
  {
   "attachments": {},
   "cell_type": "markdown",
   "metadata": {},
   "source": [
    "## 可视化MLP模型的权重\n",
    "- plot_learning_curve(mlp, 'Learning Curves', X, y, ylim=(0.1, 1.01))：这行代码调用了之前定义的plot_learning_curve函数，绘制学习曲线。参数包括已训练的MLP模型mlp、图像的标题'Learning Curves'、特征数据集X和目标数据集y，以及y轴的取值范围限制ylim。\n",
    "\n",
    "- fig, axes = plt.subplots(4, 4)：这行代码创建了一个4x4的子图网格，用于展示模型的权重可视化。fig表示整个图像对象，axes是包含所有子图的数组。\n",
    "\n",
    "- vmin, vmax = mlp.coefs_[1].min(), mlp.coefs_[0].max()：这行代码计算了模型权重的最小值vmin和最大值vmax，以确保所有权重都在相同的颜色范围内显示。\n",
    "\n",
    "- for coef, ax in zip(mlp.coefs_[0].T, axes.ravel()):：这行代码使用zip函数将模型的第一个隐含层权重mlp.coefs_[0]和对应的子图对象进行迭代。coef表示当前迭代的权重数组，ax表示当前迭代的子图对象。\n",
    "\n",
    "- ax.matshow(coef.reshape(28, 28), cmap=plt.cm.gray, vmin=.5 * vmin, vmax=.5 * vmax)：这行代码在当前子图对象上绘制权重矩阵的可视化图像。coef.reshape(28, 28)将权重数组重新调整为28x28的矩阵形式，cmap=plt.cm.gray指定使用灰度颜色映射，vmin=.5 * vmin和vmax=.5 * vmax设置颜色映射的范围。\n",
    "\n",
    "- ax.set_xticks(())和ax.set_yticks(())：这两行代码设置子图的x轴和y轴刻度为空，以隐藏刻度标签。"
   ]
  },
  {
   "cell_type": "code",
   "execution_count": 7,
   "metadata": {},
   "outputs": [
    {
     "name": "stdout",
     "output_type": "stream",
     "text": [
      "Iteration 1, loss = 0.92847683\n",
      "Iteration 2, loss = 0.36426012\n",
      "Iteration 3, loss = 0.27696218\n",
      "Iteration 4, loss = 0.22954860\n",
      "Iteration 5, loss = 0.19552531\n",
      "Iteration 6, loss = 0.16538064\n",
      "Iteration 7, loss = 0.14122064\n",
      "Iteration 8, loss = 0.12040514\n",
      "Iteration 9, loss = 0.10494098\n",
      "Iteration 10, loss = 0.08824342\n"
     ]
    },
    {
     "name": "stderr",
     "output_type": "stream",
     "text": [
      "/home/stu_wxy/anaconda3/envs/Ai/lib/python3.10/site-packages/sklearn/neural_network/_multilayer_perceptron.py:702: ConvergenceWarning: Stochastic Optimizer: Maximum iterations (10) reached and the optimization hasn't converged yet.\n",
      "  warnings.warn(\n"
     ]
    },
    {
     "name": "stdout",
     "output_type": "stream",
     "text": [
      "Iteration 1, loss = 0.53184259\n",
      "Iteration 2, loss = 0.25018873\n",
      "Iteration 3, loss = 0.18826517\n",
      "Iteration 4, loss = 0.15250220\n",
      "Iteration 5, loss = 0.12770285\n",
      "Iteration 6, loss = 0.10512397\n",
      "Iteration 7, loss = 0.09141866\n",
      "Iteration 8, loss = 0.07742120\n",
      "Iteration 9, loss = 0.06577267\n",
      "Iteration 10, loss = 0.05698748\n"
     ]
    },
    {
     "name": "stderr",
     "output_type": "stream",
     "text": [
      "/home/stu_wxy/anaconda3/envs/Ai/lib/python3.10/site-packages/sklearn/neural_network/_multilayer_perceptron.py:702: ConvergenceWarning: Stochastic Optimizer: Maximum iterations (10) reached and the optimization hasn't converged yet.\n",
      "  warnings.warn(\n"
     ]
    },
    {
     "name": "stdout",
     "output_type": "stream",
     "text": [
      "Iteration 1, loss = 0.42602549\n",
      "Iteration 2, loss = 0.19870415\n",
      "Iteration 3, loss = 0.14913090\n",
      "Iteration 4, loss = 0.11957041\n",
      "Iteration 5, loss = 0.09943671\n",
      "Iteration 6, loss = 0.08545404\n",
      "Iteration 7, loss = 0.07190709\n",
      "Iteration 8, loss = 0.06276560\n",
      "Iteration 9, loss = 0.05430212\n",
      "Iteration 10, loss = 0.04850841\n"
     ]
    },
    {
     "name": "stderr",
     "output_type": "stream",
     "text": [
      "/home/stu_wxy/anaconda3/envs/Ai/lib/python3.10/site-packages/sklearn/neural_network/_multilayer_perceptron.py:702: ConvergenceWarning: Stochastic Optimizer: Maximum iterations (10) reached and the optimization hasn't converged yet.\n",
      "  warnings.warn(\n"
     ]
    },
    {
     "name": "stdout",
     "output_type": "stream",
     "text": [
      "Iteration 1, loss = 0.36810977\n",
      "Iteration 2, loss = 0.17904204\n",
      "Iteration 3, loss = 0.13617391\n",
      "Iteration 4, loss = 0.11051072\n",
      "Iteration 5, loss = 0.09241599\n",
      "Iteration 6, loss = 0.08007734\n",
      "Iteration 7, loss = 0.07039449\n",
      "Iteration 8, loss = 0.06290828\n",
      "Iteration 9, loss = 0.05621400\n",
      "Iteration 10, loss = 0.05002507\n"
     ]
    },
    {
     "name": "stderr",
     "output_type": "stream",
     "text": [
      "/home/stu_wxy/anaconda3/envs/Ai/lib/python3.10/site-packages/sklearn/neural_network/_multilayer_perceptron.py:702: ConvergenceWarning: Stochastic Optimizer: Maximum iterations (10) reached and the optimization hasn't converged yet.\n",
      "  warnings.warn(\n"
     ]
    },
    {
     "name": "stdout",
     "output_type": "stream",
     "text": [
      "Iteration 1, loss = 0.32817991\n",
      "Iteration 2, loss = 0.15721665\n",
      "Iteration 3, loss = 0.11808366\n",
      "Iteration 4, loss = 0.09831911\n",
      "Iteration 5, loss = 0.08243663\n",
      "Iteration 6, loss = 0.07224013\n",
      "Iteration 7, loss = 0.06258116\n",
      "Iteration 8, loss = 0.05723998\n",
      "Iteration 9, loss = 0.05220361\n",
      "Iteration 10, loss = 0.04713171\n"
     ]
    },
    {
     "name": "stderr",
     "output_type": "stream",
     "text": [
      "/home/stu_wxy/anaconda3/envs/Ai/lib/python3.10/site-packages/sklearn/neural_network/_multilayer_perceptron.py:702: ConvergenceWarning: Stochastic Optimizer: Maximum iterations (10) reached and the optimization hasn't converged yet.\n",
      "  warnings.warn(\n"
     ]
    },
    {
     "name": "stdout",
     "output_type": "stream",
     "text": [
      "Iteration 1, loss = 0.86776282\n",
      "Iteration 2, loss = 0.33559040\n",
      "Iteration 3, loss = 0.25639434\n",
      "Iteration 4, loss = 0.21325686\n",
      "Iteration 5, loss = 0.18043673\n",
      "Iteration 6, loss = 0.15390556\n",
      "Iteration 7, loss = 0.13291540\n",
      "Iteration 8, loss = 0.11193104\n",
      "Iteration 9, loss = 0.09776659\n",
      "Iteration 10, loss = 0.08492764\n"
     ]
    },
    {
     "name": "stderr",
     "output_type": "stream",
     "text": [
      "/home/stu_wxy/anaconda3/envs/Ai/lib/python3.10/site-packages/sklearn/neural_network/_multilayer_perceptron.py:702: ConvergenceWarning: Stochastic Optimizer: Maximum iterations (10) reached and the optimization hasn't converged yet.\n",
      "  warnings.warn(\n"
     ]
    },
    {
     "name": "stdout",
     "output_type": "stream",
     "text": [
      "Iteration 1, loss = 0.52933344\n",
      "Iteration 2, loss = 0.24532018\n",
      "Iteration 3, loss = 0.18596942\n",
      "Iteration 4, loss = 0.14921690\n",
      "Iteration 5, loss = 0.12078564\n",
      "Iteration 6, loss = 0.10302481\n",
      "Iteration 7, loss = 0.08678175\n",
      "Iteration 8, loss = 0.07343983\n",
      "Iteration 9, loss = 0.06301519\n",
      "Iteration 10, loss = 0.05357177\n"
     ]
    },
    {
     "name": "stderr",
     "output_type": "stream",
     "text": [
      "/home/stu_wxy/anaconda3/envs/Ai/lib/python3.10/site-packages/sklearn/neural_network/_multilayer_perceptron.py:702: ConvergenceWarning: Stochastic Optimizer: Maximum iterations (10) reached and the optimization hasn't converged yet.\n",
      "  warnings.warn(\n"
     ]
    },
    {
     "name": "stdout",
     "output_type": "stream",
     "text": [
      "Iteration 1, loss = 0.42544757\n",
      "Iteration 2, loss = 0.20245505\n",
      "Iteration 3, loss = 0.15111248\n",
      "Iteration 4, loss = 0.12107416\n",
      "Iteration 5, loss = 0.10041214\n",
      "Iteration 6, loss = 0.08466474\n",
      "Iteration 7, loss = 0.07344495\n",
      "Iteration 8, loss = 0.06190134\n",
      "Iteration 9, loss = 0.05523645\n",
      "Iteration 10, loss = 0.04936720\n"
     ]
    },
    {
     "name": "stderr",
     "output_type": "stream",
     "text": [
      "/home/stu_wxy/anaconda3/envs/Ai/lib/python3.10/site-packages/sklearn/neural_network/_multilayer_perceptron.py:702: ConvergenceWarning: Stochastic Optimizer: Maximum iterations (10) reached and the optimization hasn't converged yet.\n",
      "  warnings.warn(\n"
     ]
    },
    {
     "name": "stdout",
     "output_type": "stream",
     "text": [
      "Iteration 1, loss = 0.36634279\n",
      "Iteration 2, loss = 0.17715181\n",
      "Iteration 3, loss = 0.13169364\n",
      "Iteration 4, loss = 0.10694955\n",
      "Iteration 5, loss = 0.09066095\n",
      "Iteration 6, loss = 0.07642754\n",
      "Iteration 7, loss = 0.06769080\n",
      "Iteration 8, loss = 0.05962171\n",
      "Iteration 9, loss = 0.05426006\n",
      "Iteration 10, loss = 0.04736861\n"
     ]
    },
    {
     "name": "stderr",
     "output_type": "stream",
     "text": [
      "/home/stu_wxy/anaconda3/envs/Ai/lib/python3.10/site-packages/sklearn/neural_network/_multilayer_perceptron.py:702: ConvergenceWarning: Stochastic Optimizer: Maximum iterations (10) reached and the optimization hasn't converged yet.\n",
      "  warnings.warn(\n"
     ]
    },
    {
     "name": "stdout",
     "output_type": "stream",
     "text": [
      "Iteration 1, loss = 0.32912405\n",
      "Iteration 2, loss = 0.15931694\n",
      "Iteration 3, loss = 0.11931734\n",
      "Iteration 4, loss = 0.09885455\n",
      "Iteration 5, loss = 0.08292791\n",
      "Iteration 6, loss = 0.07239752\n",
      "Iteration 7, loss = 0.06360638\n",
      "Iteration 8, loss = 0.05743776\n",
      "Iteration 9, loss = 0.05046039\n",
      "Iteration 10, loss = 0.04670490\n"
     ]
    },
    {
     "name": "stderr",
     "output_type": "stream",
     "text": [
      "/home/stu_wxy/anaconda3/envs/Ai/lib/python3.10/site-packages/sklearn/neural_network/_multilayer_perceptron.py:702: ConvergenceWarning: Stochastic Optimizer: Maximum iterations (10) reached and the optimization hasn't converged yet.\n",
      "  warnings.warn(\n"
     ]
    },
    {
     "name": "stdout",
     "output_type": "stream",
     "text": [
      "Iteration 1, loss = 0.86776282\n",
      "Iteration 2, loss = 0.33559040\n",
      "Iteration 3, loss = 0.25639434\n",
      "Iteration 4, loss = 0.21325686\n",
      "Iteration 5, loss = 0.18043673\n",
      "Iteration 6, loss = 0.15390556\n",
      "Iteration 7, loss = 0.13291540\n",
      "Iteration 8, loss = 0.11193104\n",
      "Iteration 9, loss = 0.09776659\n",
      "Iteration 10, loss = 0.08492764\n"
     ]
    },
    {
     "name": "stderr",
     "output_type": "stream",
     "text": [
      "/home/stu_wxy/anaconda3/envs/Ai/lib/python3.10/site-packages/sklearn/neural_network/_multilayer_perceptron.py:702: ConvergenceWarning: Stochastic Optimizer: Maximum iterations (10) reached and the optimization hasn't converged yet.\n",
      "  warnings.warn(\n"
     ]
    },
    {
     "name": "stdout",
     "output_type": "stream",
     "text": [
      "Iteration 1, loss = 0.52183844\n",
      "Iteration 2, loss = 0.24417397\n",
      "Iteration 3, loss = 0.18459872\n",
      "Iteration 4, loss = 0.15021700\n",
      "Iteration 5, loss = 0.12287745\n",
      "Iteration 6, loss = 0.10576869\n",
      "Iteration 7, loss = 0.08987797\n",
      "Iteration 8, loss = 0.07718947\n",
      "Iteration 9, loss = 0.06741365\n",
      "Iteration 10, loss = 0.05769676\n"
     ]
    },
    {
     "name": "stderr",
     "output_type": "stream",
     "text": [
      "/home/stu_wxy/anaconda3/envs/Ai/lib/python3.10/site-packages/sklearn/neural_network/_multilayer_perceptron.py:702: ConvergenceWarning: Stochastic Optimizer: Maximum iterations (10) reached and the optimization hasn't converged yet.\n",
      "  warnings.warn(\n"
     ]
    },
    {
     "name": "stdout",
     "output_type": "stream",
     "text": [
      "Iteration 1, loss = 0.42109629\n",
      "Iteration 2, loss = 0.19955730\n",
      "Iteration 3, loss = 0.14783286\n",
      "Iteration 4, loss = 0.12005346\n",
      "Iteration 5, loss = 0.09930693\n",
      "Iteration 6, loss = 0.08623390\n",
      "Iteration 7, loss = 0.07416927\n",
      "Iteration 8, loss = 0.06595771\n",
      "Iteration 9, loss = 0.05601146\n",
      "Iteration 10, loss = 0.04914449\n"
     ]
    },
    {
     "name": "stderr",
     "output_type": "stream",
     "text": [
      "/home/stu_wxy/anaconda3/envs/Ai/lib/python3.10/site-packages/sklearn/neural_network/_multilayer_perceptron.py:702: ConvergenceWarning: Stochastic Optimizer: Maximum iterations (10) reached and the optimization hasn't converged yet.\n",
      "  warnings.warn(\n"
     ]
    },
    {
     "name": "stdout",
     "output_type": "stream",
     "text": [
      "Iteration 1, loss = 0.36170586\n",
      "Iteration 2, loss = 0.17507275\n",
      "Iteration 3, loss = 0.13131795\n",
      "Iteration 4, loss = 0.10614607\n",
      "Iteration 5, loss = 0.08898812\n",
      "Iteration 6, loss = 0.07741397\n",
      "Iteration 7, loss = 0.06676295\n",
      "Iteration 8, loss = 0.05929872\n",
      "Iteration 9, loss = 0.05333595\n",
      "Iteration 10, loss = 0.04743625\n"
     ]
    },
    {
     "name": "stderr",
     "output_type": "stream",
     "text": [
      "/home/stu_wxy/anaconda3/envs/Ai/lib/python3.10/site-packages/sklearn/neural_network/_multilayer_perceptron.py:702: ConvergenceWarning: Stochastic Optimizer: Maximum iterations (10) reached and the optimization hasn't converged yet.\n",
      "  warnings.warn(\n"
     ]
    },
    {
     "name": "stdout",
     "output_type": "stream",
     "text": [
      "Iteration 1, loss = 0.32340128\n",
      "Iteration 2, loss = 0.15669574\n",
      "Iteration 3, loss = 0.11890085\n",
      "Iteration 4, loss = 0.09789704\n",
      "Iteration 5, loss = 0.08258731\n",
      "Iteration 6, loss = 0.07155856\n",
      "Iteration 7, loss = 0.06250955\n",
      "Iteration 8, loss = 0.05754445\n",
      "Iteration 9, loss = 0.05073069\n",
      "Iteration 10, loss = 0.04654131\n"
     ]
    },
    {
     "name": "stderr",
     "output_type": "stream",
     "text": [
      "/home/stu_wxy/anaconda3/envs/Ai/lib/python3.10/site-packages/sklearn/neural_network/_multilayer_perceptron.py:702: ConvergenceWarning: Stochastic Optimizer: Maximum iterations (10) reached and the optimization hasn't converged yet.\n",
      "  warnings.warn(\n"
     ]
    },
    {
     "name": "stdout",
     "output_type": "stream",
     "text": [
      "Iteration 1, loss = 0.86776282\n",
      "Iteration 2, loss = 0.33559040\n",
      "Iteration 3, loss = 0.25639434\n",
      "Iteration 4, loss = 0.21325686\n",
      "Iteration 5, loss = 0.18043673\n",
      "Iteration 6, loss = 0.15390556\n",
      "Iteration 7, loss = 0.13291540\n",
      "Iteration 8, loss = 0.11193104\n",
      "Iteration 9, loss = 0.09776659\n",
      "Iteration 10, loss = 0.08492764\n"
     ]
    },
    {
     "name": "stderr",
     "output_type": "stream",
     "text": [
      "/home/stu_wxy/anaconda3/envs/Ai/lib/python3.10/site-packages/sklearn/neural_network/_multilayer_perceptron.py:702: ConvergenceWarning: Stochastic Optimizer: Maximum iterations (10) reached and the optimization hasn't converged yet.\n",
      "  warnings.warn(\n"
     ]
    },
    {
     "name": "stdout",
     "output_type": "stream",
     "text": [
      "Iteration 1, loss = 0.52183844\n",
      "Iteration 2, loss = 0.24417397\n",
      "Iteration 3, loss = 0.18459872\n",
      "Iteration 4, loss = 0.15021700\n",
      "Iteration 5, loss = 0.12287745\n",
      "Iteration 6, loss = 0.10576869\n",
      "Iteration 7, loss = 0.08987797\n",
      "Iteration 8, loss = 0.07718947\n",
      "Iteration 9, loss = 0.06741365\n",
      "Iteration 10, loss = 0.05769676\n"
     ]
    },
    {
     "name": "stderr",
     "output_type": "stream",
     "text": [
      "/home/stu_wxy/anaconda3/envs/Ai/lib/python3.10/site-packages/sklearn/neural_network/_multilayer_perceptron.py:702: ConvergenceWarning: Stochastic Optimizer: Maximum iterations (10) reached and the optimization hasn't converged yet.\n",
      "  warnings.warn(\n"
     ]
    },
    {
     "name": "stdout",
     "output_type": "stream",
     "text": [
      "Iteration 1, loss = 0.41909586\n",
      "Iteration 2, loss = 0.19821641\n",
      "Iteration 3, loss = 0.14923728\n",
      "Iteration 4, loss = 0.12179897\n",
      "Iteration 5, loss = 0.10130215\n",
      "Iteration 6, loss = 0.08719502\n",
      "Iteration 7, loss = 0.07421189\n",
      "Iteration 8, loss = 0.06554629\n",
      "Iteration 9, loss = 0.05604526\n",
      "Iteration 10, loss = 0.05019750\n"
     ]
    },
    {
     "name": "stderr",
     "output_type": "stream",
     "text": [
      "/home/stu_wxy/anaconda3/envs/Ai/lib/python3.10/site-packages/sklearn/neural_network/_multilayer_perceptron.py:702: ConvergenceWarning: Stochastic Optimizer: Maximum iterations (10) reached and the optimization hasn't converged yet.\n",
      "  warnings.warn(\n"
     ]
    },
    {
     "name": "stdout",
     "output_type": "stream",
     "text": [
      "Iteration 1, loss = 0.36330390\n",
      "Iteration 2, loss = 0.17336155\n",
      "Iteration 3, loss = 0.12837716\n",
      "Iteration 4, loss = 0.10331013\n",
      "Iteration 5, loss = 0.08708097\n",
      "Iteration 6, loss = 0.07504888\n",
      "Iteration 7, loss = 0.06511601\n",
      "Iteration 8, loss = 0.05665129\n",
      "Iteration 9, loss = 0.04990184\n",
      "Iteration 10, loss = 0.04385401\n"
     ]
    },
    {
     "name": "stderr",
     "output_type": "stream",
     "text": [
      "/home/stu_wxy/anaconda3/envs/Ai/lib/python3.10/site-packages/sklearn/neural_network/_multilayer_perceptron.py:702: ConvergenceWarning: Stochastic Optimizer: Maximum iterations (10) reached and the optimization hasn't converged yet.\n",
      "  warnings.warn(\n"
     ]
    },
    {
     "name": "stdout",
     "output_type": "stream",
     "text": [
      "Iteration 1, loss = 0.32203470\n",
      "Iteration 2, loss = 0.15358235\n",
      "Iteration 3, loss = 0.11688160\n",
      "Iteration 4, loss = 0.09574076\n",
      "Iteration 5, loss = 0.08217601\n",
      "Iteration 6, loss = 0.07017785\n",
      "Iteration 7, loss = 0.06279693\n",
      "Iteration 8, loss = 0.05508218\n",
      "Iteration 9, loss = 0.04950488\n",
      "Iteration 10, loss = 0.04494384\n"
     ]
    },
    {
     "name": "stderr",
     "output_type": "stream",
     "text": [
      "/home/stu_wxy/anaconda3/envs/Ai/lib/python3.10/site-packages/sklearn/neural_network/_multilayer_perceptron.py:702: ConvergenceWarning: Stochastic Optimizer: Maximum iterations (10) reached and the optimization hasn't converged yet.\n",
      "  warnings.warn(\n"
     ]
    },
    {
     "name": "stdout",
     "output_type": "stream",
     "text": [
      "Iteration 1, loss = 0.86776282\n",
      "Iteration 2, loss = 0.33559040\n",
      "Iteration 3, loss = 0.25639434\n",
      "Iteration 4, loss = 0.21325686\n",
      "Iteration 5, loss = 0.18043673\n",
      "Iteration 6, loss = 0.15390556\n",
      "Iteration 7, loss = 0.13291540\n",
      "Iteration 8, loss = 0.11193104\n",
      "Iteration 9, loss = 0.09776659\n",
      "Iteration 10, loss = 0.08492764\n"
     ]
    },
    {
     "name": "stderr",
     "output_type": "stream",
     "text": [
      "/home/stu_wxy/anaconda3/envs/Ai/lib/python3.10/site-packages/sklearn/neural_network/_multilayer_perceptron.py:702: ConvergenceWarning: Stochastic Optimizer: Maximum iterations (10) reached and the optimization hasn't converged yet.\n",
      "  warnings.warn(\n"
     ]
    },
    {
     "name": "stdout",
     "output_type": "stream",
     "text": [
      "Iteration 1, loss = 0.52183844\n",
      "Iteration 2, loss = 0.24417397\n",
      "Iteration 3, loss = 0.18459872\n",
      "Iteration 4, loss = 0.15021700\n",
      "Iteration 5, loss = 0.12287745\n",
      "Iteration 6, loss = 0.10576869\n",
      "Iteration 7, loss = 0.08987797\n",
      "Iteration 8, loss = 0.07718947\n",
      "Iteration 9, loss = 0.06741365\n",
      "Iteration 10, loss = 0.05769676\n"
     ]
    },
    {
     "name": "stderr",
     "output_type": "stream",
     "text": [
      "/home/stu_wxy/anaconda3/envs/Ai/lib/python3.10/site-packages/sklearn/neural_network/_multilayer_perceptron.py:702: ConvergenceWarning: Stochastic Optimizer: Maximum iterations (10) reached and the optimization hasn't converged yet.\n",
      "  warnings.warn(\n"
     ]
    },
    {
     "name": "stdout",
     "output_type": "stream",
     "text": [
      "Iteration 1, loss = 0.41909586\n",
      "Iteration 2, loss = 0.19821641\n",
      "Iteration 3, loss = 0.14923728\n",
      "Iteration 4, loss = 0.12179897\n",
      "Iteration 5, loss = 0.10130215\n",
      "Iteration 6, loss = 0.08719502\n",
      "Iteration 7, loss = 0.07421189\n",
      "Iteration 8, loss = 0.06554629\n",
      "Iteration 9, loss = 0.05604526\n",
      "Iteration 10, loss = 0.05019750\n"
     ]
    },
    {
     "name": "stderr",
     "output_type": "stream",
     "text": [
      "/home/stu_wxy/anaconda3/envs/Ai/lib/python3.10/site-packages/sklearn/neural_network/_multilayer_perceptron.py:702: ConvergenceWarning: Stochastic Optimizer: Maximum iterations (10) reached and the optimization hasn't converged yet.\n",
      "  warnings.warn(\n"
     ]
    },
    {
     "name": "stdout",
     "output_type": "stream",
     "text": [
      "Iteration 1, loss = 0.36487747\n",
      "Iteration 2, loss = 0.17405236\n",
      "Iteration 3, loss = 0.12954579\n",
      "Iteration 4, loss = 0.10490883\n",
      "Iteration 5, loss = 0.08886729\n",
      "Iteration 6, loss = 0.07568321\n",
      "Iteration 7, loss = 0.06537523\n",
      "Iteration 8, loss = 0.05742827\n",
      "Iteration 9, loss = 0.05057286\n",
      "Iteration 10, loss = 0.04419753\n"
     ]
    },
    {
     "name": "stderr",
     "output_type": "stream",
     "text": [
      "/home/stu_wxy/anaconda3/envs/Ai/lib/python3.10/site-packages/sklearn/neural_network/_multilayer_perceptron.py:702: ConvergenceWarning: Stochastic Optimizer: Maximum iterations (10) reached and the optimization hasn't converged yet.\n",
      "  warnings.warn(\n"
     ]
    },
    {
     "name": "stdout",
     "output_type": "stream",
     "text": [
      "Iteration 1, loss = 0.33111374\n",
      "Iteration 2, loss = 0.15965087\n",
      "Iteration 3, loss = 0.11961027\n",
      "Iteration 4, loss = 0.09677512\n",
      "Iteration 5, loss = 0.08429765\n",
      "Iteration 6, loss = 0.07158456\n",
      "Iteration 7, loss = 0.06497925\n",
      "Iteration 8, loss = 0.05832347\n",
      "Iteration 9, loss = 0.05169443\n",
      "Iteration 10, loss = 0.04605703\n"
     ]
    },
    {
     "name": "stderr",
     "output_type": "stream",
     "text": [
      "/home/stu_wxy/anaconda3/envs/Ai/lib/python3.10/site-packages/sklearn/neural_network/_multilayer_perceptron.py:702: ConvergenceWarning: Stochastic Optimizer: Maximum iterations (10) reached and the optimization hasn't converged yet.\n",
      "  warnings.warn(\n",
      "findfont: Font family 'SimHei' not found.\n",
      "findfont: Font family 'SimHei' not found.\n",
      "findfont: Font family 'SimHei' not found.\n",
      "findfont: Font family 'SimHei' not found.\n",
      "findfont: Font family 'SimHei' not found.\n",
      "findfont: Font family 'SimHei' not found.\n",
      "findfont: Font family 'SimHei' not found.\n",
      "findfont: Font family 'SimHei' not found.\n",
      "findfont: Font family 'SimHei' not found.\n",
      "findfont: Font family 'SimHei' not found.\n",
      "findfont: Font family 'SimHei' not found.\n",
      "findfont: Font family 'SimHei' not found.\n",
      "findfont: Font family 'SimHei' not found.\n",
      "findfont: Font family 'SimHei' not found.\n",
      "findfont: Font family 'SimHei' not found.\n",
      "findfont: Font family 'SimHei' not found.\n",
      "findfont: Font family 'SimHei' not found.\n",
      "findfont: Font family 'SimHei' not found.\n",
      "findfont: Font family 'SimHei' not found.\n",
      "findfont: Font family 'SimHei' not found.\n",
      "findfont: Font family 'SimHei' not found.\n",
      "findfont: Font family 'SimHei' not found.\n",
      "findfont: Font family 'SimHei' not found.\n",
      "findfont: Font family 'SimHei' not found.\n",
      "findfont: Font family 'SimHei' not found.\n",
      "findfont: Font family 'SimHei' not found.\n",
      "findfont: Font family 'SimHei' not found.\n",
      "findfont: Font family 'SimHei' not found.\n",
      "findfont: Font family 'SimHei' not found.\n",
      "findfont: Font family 'SimHei' not found.\n",
      "findfont: Font family 'SimHei' not found.\n",
      "findfont: Font family 'SimHei' not found.\n",
      "findfont: Font family 'SimHei' not found.\n",
      "findfont: Font family 'SimHei' not found.\n",
      "findfont: Font family 'SimHei' not found.\n",
      "findfont: Font family 'SimHei' not found.\n",
      "findfont: Font family 'SimHei' not found.\n",
      "findfont: Font family 'SimHei' not found.\n",
      "findfont: Font family 'SimHei' not found.\n",
      "findfont: Font family 'SimHei' not found.\n",
      "findfont: Font family 'SimHei' not found.\n",
      "findfont: Font family 'SimHei' not found.\n",
      "findfont: Font family 'SimHei' not found.\n",
      "findfont: Font family 'SimHei' not found.\n",
      "findfont: Font family 'SimHei' not found.\n",
      "findfont: Font family 'SimHei' not found.\n",
      "findfont: Font family 'SimHei' not found.\n",
      "findfont: Font family 'SimHei' not found.\n",
      "findfont: Font family 'SimHei' not found.\n",
      "findfont: Font family 'SimHei' not found.\n",
      "findfont: Font family 'SimHei' not found.\n",
      "findfont: Font family 'SimHei' not found.\n",
      "findfont: Font family 'SimHei' not found.\n",
      "findfont: Font family 'SimHei' not found.\n",
      "findfont: Font family 'SimHei' not found.\n",
      "findfont: Font family 'SimHei' not found.\n",
      "findfont: Font family 'SimHei' not found.\n",
      "findfont: Font family 'SimHei' not found.\n",
      "findfont: Font family 'SimHei' not found.\n",
      "findfont: Font family 'SimHei' not found.\n",
      "findfont: Font family 'SimHei' not found.\n",
      "findfont: Font family 'SimHei' not found.\n",
      "findfont: Font family 'SimHei' not found.\n",
      "findfont: Font family 'SimHei' not found.\n",
      "findfont: Font family 'SimHei' not found.\n",
      "findfont: Font family 'SimHei' not found.\n",
      "findfont: Font family 'SimHei' not found.\n",
      "findfont: Font family 'SimHei' not found.\n",
      "findfont: Font family 'SimHei' not found.\n",
      "findfont: Font family 'SimHei' not found.\n",
      "findfont: Font family 'SimHei' not found.\n",
      "findfont: Font family 'SimHei' not found.\n",
      "findfont: Font family 'SimHei' not found.\n",
      "findfont: Font family 'SimHei' not found.\n",
      "findfont: Font family 'SimHei' not found.\n"
     ]
    },
    {
     "data": {
      "image/png": "[encoded data removed]",
      "text/plain": [
       "<Figure size 640x480 with 1 Axes>"
      ]
     },
     "metadata": {},
     "output_type": "display_data"
    },
    {
     "data": {
      "image/png": "[encoded data removed]",
      "text/plain": [
       "<Figure size 640x480 with 16 Axes>"
      ]
     },
     "metadata": {},
     "output_type": "display_data"
    }
   ],
   "source": [
    "#For cross validation    \n",
    "plot_learning_curve(mlp, 'Learning Curves', X, y, ylim=(0.1, 1.01))#开始绘制曲线\n",
    "\n",
    "fig, axes = plt.subplots(4, 4)\n",
    "# use global min / max to ensure all weights are shown on the same scale\n",
    "vmin, vmax = mlp.coefs_[1].min(), mlp.coefs_[0].max()\n",
    "for coef, ax in zip(mlp.coefs_[0].T, axes.ravel()):\n",
    "    ax.matshow(coef.reshape(28, 28), cmap=plt.cm.gray, vmin=.5 * vmin,\n",
    "               vmax=.5 * vmax)\n",
    "    ax.set_xticks(())\n",
    "    ax.set_yticks(())\n",
    "\n",
    "plt.show()\n"
   ]
  }
 ],
 "metadata": {
  "kernelspec": {
   "display_name": "Python 3",
   "language": "python",
   "name": "python3"
  },
  "language_info": {
   "codemirror_mode": {
    "name": "ipython",
    "version": 3
   },
   "file_extension": ".py",
   "mimetype": "text/x-python",
   "name": "python",
   "nbconvert_exporter": "python",
   "pygments_lexer": "ipython3",
   "version": "3.10.10"
  },
  "orig_nbformat": 4
 },
 "nbformat": 4,
 "nbformat_minor": 2
}
