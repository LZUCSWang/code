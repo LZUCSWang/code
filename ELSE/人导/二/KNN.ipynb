{
 "cells": [
  {
   "cell_type": "code",
   "execution_count": 1,
   "id": "4adc6093-fc7e-44f6-b906-ebe2acd996d0",
   "metadata": {
    "execution": {
     "iopub.execute_input": "2023-04-04T08:37:19.137309Z",
     "iopub.status.busy": "2023-04-04T08:37:19.136318Z",
     "iopub.status.idle": "2023-04-04T08:37:20.054341Z",
     "shell.execute_reply": "2023-04-04T08:37:20.053094Z",
     "shell.execute_reply.started": "2023-04-04T08:37:19.137276Z"
    },
    "scrolled": true,
    "tags": []
   },
   "outputs": [],
   "source": [
    "from sklearn.datasets import load_iris"
   ]
  },
  {
   "cell_type": "code",
   "execution_count": 2,
   "id": "cd66df0b-ce68-4a16-a475-e5e8738d575a",
   "metadata": {
    "execution": {
     "iopub.execute_input": "2023-04-04T08:37:22.577207Z",
     "iopub.status.busy": "2023-04-04T08:37:22.576277Z",
     "iopub.status.idle": "2023-04-04T08:37:22.597666Z",
     "shell.execute_reply": "2023-04-04T08:37:22.596783Z",
     "shell.execute_reply.started": "2023-04-04T08:37:22.577172Z"
    },
    "scrolled": true,
    "tags": []
   },
   "outputs": [
    {
     "data": {
      "text/plain": [
       "{'data': array([[5.1, 3.5, 1.4, 0.2],\n",
       "        [4.9, 3. , 1.4, 0.2],\n",
       "        [4.7, 3.2, 1.3, 0.2],\n",
       "        [4.6, 3.1, 1.5, 0.2],\n",
       "        [5. , 3.6, 1.4, 0.2],\n",
       "        [5.4, 3.9, 1.7, 0.4],\n",
       "        [4.6, 3.4, 1.4, 0.3],\n",
       "        [5. , 3.4, 1.5, 0.2],\n",
       "        [4.4, 2.9, 1.4, 0.2],\n",
       "        [4.9, 3.1, 1.5, 0.1],\n",
       "        [5.4, 3.7, 1.5, 0.2],\n",
       "        [4.8, 3.4, 1.6, 0.2],\n",
       "        [4.8, 3. , 1.4, 0.1],\n",
       "        [4.3, 3. , 1.1, 0.1],\n",
       "        [5.8, 4. , 1.2, 0.2],\n",
       "        [5.7, 4.4, 1.5, 0.4],\n",
       "        [5.4, 3.9, 1.3, 0.4],\n",
       "        [5.1, 3.5, 1.4, 0.3],\n",
       "        [5.7, 3.8, 1.7, 0.3],\n",
       "        [5.1, 3.8, 1.5, 0.3],\n",
       "        [5.4, 3.4, 1.7, 0.2],\n",
       "        [5.1, 3.7, 1.5, 0.4],\n",
       "        [4.6, 3.6, 1. , 0.2],\n",
       "        [5.1, 3.3, 1.7, 0.5],\n",
       "        [4.8, 3.4, 1.9, 0.2],\n",
       "        [5. , 3. , 1.6, 0.2],\n",
       "        [5. , 3.4, 1.6, 0.4],\n",
       "        [5.2, 3.5, 1.5, 0.2],\n",
       "        [5.2, 3.4, 1.4, 0.2],\n",
       "        [4.7, 3.2, 1.6, 0.2],\n",
       "        [4.8, 3.1, 1.6, 0.2],\n",
       "        [5.4, 3.4, 1.5, 0.4],\n",
       "        [5.2, 4.1, 1.5, 0.1],\n",
       "        [5.5, 4.2, 1.4, 0.2],\n",
       "        [4.9, 3.1, 1.5, 0.2],\n",
       "        [5. , 3.2, 1.2, 0.2],\n",
       "        [5.5, 3.5, 1.3, 0.2],\n",
       "        [4.9, 3.6, 1.4, 0.1],\n",
       "        [4.4, 3. , 1.3, 0.2],\n",
       "        [5.1, 3.4, 1.5, 0.2],\n",
       "        [5. , 3.5, 1.3, 0.3],\n",
       "        [4.5, 2.3, 1.3, 0.3],\n",
       "        [4.4, 3.2, 1.3, 0.2],\n",
       "        [5. , 3.5, 1.6, 0.6],\n",
       "        [5.1, 3.8, 1.9, 0.4],\n",
       "        [4.8, 3. , 1.4, 0.3],\n",
       "        [5.1, 3.8, 1.6, 0.2],\n",
       "        [4.6, 3.2, 1.4, 0.2],\n",
       "        [5.3, 3.7, 1.5, 0.2],\n",
       "        [5. , 3.3, 1.4, 0.2],\n",
       "        [7. , 3.2, 4.7, 1.4],\n",
       "        [6.4, 3.2, 4.5, 1.5],\n",
       "        [6.9, 3.1, 4.9, 1.5],\n",
       "        [5.5, 2.3, 4. , 1.3],\n",
       "        [6.5, 2.8, 4.6, 1.5],\n",
       "        [5.7, 2.8, 4.5, 1.3],\n",
       "        [6.3, 3.3, 4.7, 1.6],\n",
       "        [4.9, 2.4, 3.3, 1. ],\n",
       "        [6.6, 2.9, 4.6, 1.3],\n",
       "        [5.2, 2.7, 3.9, 1.4],\n",
       "        [5. , 2. , 3.5, 1. ],\n",
       "        [5.9, 3. , 4.2, 1.5],\n",
       "        [6. , 2.2, 4. , 1. ],\n",
       "        [6.1, 2.9, 4.7, 1.4],\n",
       "        [5.6, 2.9, 3.6, 1.3],\n",
       "        [6.7, 3.1, 4.4, 1.4],\n",
       "        [5.6, 3. , 4.5, 1.5],\n",
       "        [5.8, 2.7, 4.1, 1. ],\n",
       "        [6.2, 2.2, 4.5, 1.5],\n",
       "        [5.6, 2.5, 3.9, 1.1],\n",
       "        [5.9, 3.2, 4.8, 1.8],\n",
       "        [6.1, 2.8, 4. , 1.3],\n",
       "        [6.3, 2.5, 4.9, 1.5],\n",
       "        [6.1, 2.8, 4.7, 1.2],\n",
       "        [6.4, 2.9, 4.3, 1.3],\n",
       "        [6.6, 3. , 4.4, 1.4],\n",
       "        [6.8, 2.8, 4.8, 1.4],\n",
       "        [6.7, 3. , 5. , 1.7],\n",
       "        [6. , 2.9, 4.5, 1.5],\n",
       "        [5.7, 2.6, 3.5, 1. ],\n",
       "        [5.5, 2.4, 3.8, 1.1],\n",
       "        [5.5, 2.4, 3.7, 1. ],\n",
       "        [5.8, 2.7, 3.9, 1.2],\n",
       "        [6. , 2.7, 5.1, 1.6],\n",
       "        [5.4, 3. , 4.5, 1.5],\n",
       "        [6. , 3.4, 4.5, 1.6],\n",
       "        [6.7, 3.1, 4.7, 1.5],\n",
       "        [6.3, 2.3, 4.4, 1.3],\n",
       "        [5.6, 3. , 4.1, 1.3],\n",
       "        [5.5, 2.5, 4. , 1.3],\n",
       "        [5.5, 2.6, 4.4, 1.2],\n",
       "        [6.1, 3. , 4.6, 1.4],\n",
       "        [5.8, 2.6, 4. , 1.2],\n",
       "        [5. , 2.3, 3.3, 1. ],\n",
       "        [5.6, 2.7, 4.2, 1.3],\n",
       "        [5.7, 3. , 4.2, 1.2],\n",
       "        [5.7, 2.9, 4.2, 1.3],\n",
       "        [6.2, 2.9, 4.3, 1.3],\n",
       "        [5.1, 2.5, 3. , 1.1],\n",
       "        [5.7, 2.8, 4.1, 1.3],\n",
       "        [6.3, 3.3, 6. , 2.5],\n",
       "        [5.8, 2.7, 5.1, 1.9],\n",
       "        [7.1, 3. , 5.9, 2.1],\n",
       "        [6.3, 2.9, 5.6, 1.8],\n",
       "        [6.5, 3. , 5.8, 2.2],\n",
       "        [7.6, 3. , 6.6, 2.1],\n",
       "        [4.9, 2.5, 4.5, 1.7],\n",
       "        [7.3, 2.9, 6.3, 1.8],\n",
       "        [6.7, 2.5, 5.8, 1.8],\n",
       "        [7.2, 3.6, 6.1, 2.5],\n",
       "        [6.5, 3.2, 5.1, 2. ],\n",
       "        [6.4, 2.7, 5.3, 1.9],\n",
       "        [6.8, 3. , 5.5, 2.1],\n",
       "        [5.7, 2.5, 5. , 2. ],\n",
       "        [5.8, 2.8, 5.1, 2.4],\n",
       "        [6.4, 3.2, 5.3, 2.3],\n",
       "        [6.5, 3. , 5.5, 1.8],\n",
       "        [7.7, 3.8, 6.7, 2.2],\n",
       "        [7.7, 2.6, 6.9, 2.3],\n",
       "        [6. , 2.2, 5. , 1.5],\n",
       "        [6.9, 3.2, 5.7, 2.3],\n",
       "        [5.6, 2.8, 4.9, 2. ],\n",
       "        [7.7, 2.8, 6.7, 2. ],\n",
       "        [6.3, 2.7, 4.9, 1.8],\n",
       "        [6.7, 3.3, 5.7, 2.1],\n",
       "        [7.2, 3.2, 6. , 1.8],\n",
       "        [6.2, 2.8, 4.8, 1.8],\n",
       "        [6.1, 3. , 4.9, 1.8],\n",
       "        [6.4, 2.8, 5.6, 2.1],\n",
       "        [7.2, 3. , 5.8, 1.6],\n",
       "        [7.4, 2.8, 6.1, 1.9],\n",
       "        [7.9, 3.8, 6.4, 2. ],\n",
       "        [6.4, 2.8, 5.6, 2.2],\n",
       "        [6.3, 2.8, 5.1, 1.5],\n",
       "        [6.1, 2.6, 5.6, 1.4],\n",
       "        [7.7, 3. , 6.1, 2.3],\n",
       "        [6.3, 3.4, 5.6, 2.4],\n",
       "        [6.4, 3.1, 5.5, 1.8],\n",
       "        [6. , 3. , 4.8, 1.8],\n",
       "        [6.9, 3.1, 5.4, 2.1],\n",
       "        [6.7, 3.1, 5.6, 2.4],\n",
       "        [6.9, 3.1, 5.1, 2.3],\n",
       "        [5.8, 2.7, 5.1, 1.9],\n",
       "        [6.8, 3.2, 5.9, 2.3],\n",
       "        [6.7, 3.3, 5.7, 2.5],\n",
       "        [6.7, 3. , 5.2, 2.3],\n",
       "        [6.3, 2.5, 5. , 1.9],\n",
       "        [6.5, 3. , 5.2, 2. ],\n",
       "        [6.2, 3.4, 5.4, 2.3],\n",
       "        [5.9, 3. , 5.1, 1.8]]),\n",
       " 'target': array([0, 0, 0, 0, 0, 0, 0, 0, 0, 0, 0, 0, 0, 0, 0, 0, 0, 0, 0, 0, 0, 0,\n",
       "        0, 0, 0, 0, 0, 0, 0, 0, 0, 0, 0, 0, 0, 0, 0, 0, 0, 0, 0, 0, 0, 0,\n",
       "        0, 0, 0, 0, 0, 0, 1, 1, 1, 1, 1, 1, 1, 1, 1, 1, 1, 1, 1, 1, 1, 1,\n",
       "        1, 1, 1, 1, 1, 1, 1, 1, 1, 1, 1, 1, 1, 1, 1, 1, 1, 1, 1, 1, 1, 1,\n",
       "        1, 1, 1, 1, 1, 1, 1, 1, 1, 1, 1, 1, 2, 2, 2, 2, 2, 2, 2, 2, 2, 2,\n",
       "        2, 2, 2, 2, 2, 2, 2, 2, 2, 2, 2, 2, 2, 2, 2, 2, 2, 2, 2, 2, 2, 2,\n",
       "        2, 2, 2, 2, 2, 2, 2, 2, 2, 2, 2, 2, 2, 2, 2, 2, 2, 2]),\n",
       " 'frame': None,\n",
       " 'target_names': array(['setosa', 'versicolor', 'virginica'], dtype='<U10'),\n",
       " 'DESCR': '.. _iris_dataset:\\n\\nIris plants dataset\\n--------------------\\n\\n**Data Set Characteristics:**\\n\\n    :Number of Instances: 150 (50 in each of three classes)\\n    :Number of Attributes: 4 numeric, predictive attributes and the class\\n    :Attribute Information:\\n        - sepal length in cm\\n        - sepal width in cm\\n        - petal length in cm\\n        - petal width in cm\\n        - class:\\n                - Iris-Setosa\\n                - Iris-Versicolour\\n                - Iris-Virginica\\n                \\n    :Summary Statistics:\\n\\n    ============== ==== ==== ======= ===== ====================\\n                    Min  Max   Mean    SD   Class Correlation\\n    ============== ==== ==== ======= ===== ====================\\n    sepal length:   4.3  7.9   5.84   0.83    0.7826\\n    sepal width:    2.0  4.4   3.05   0.43   -0.4194\\n    petal length:   1.0  6.9   3.76   1.76    0.9490  (high!)\\n    petal width:    0.1  2.5   1.20   0.76    0.9565  (high!)\\n    ============== ==== ==== ======= ===== ====================\\n\\n    :Missing Attribute Values: None\\n    :Class Distribution: 33.3% for each of 3 classes.\\n    :Creator: R.A. Fisher\\n    :Donor: Michael Marshall (MARSHALL%PLU@io.arc.nasa.gov)\\n    :Date: July, 1988\\n\\nThe famous Iris database, first used by Sir R.A. Fisher. The dataset is taken\\nfrom Fisher\\'s paper. Note that it\\'s the same as in R, but not as in the UCI\\nMachine Learning Repository, which has two wrong data points.\\n\\nThis is perhaps the best known database to be found in the\\npattern recognition literature.  Fisher\\'s paper is a classic in the field and\\nis referenced frequently to this day.  (See Duda & Hart, for example.)  The\\ndata set contains 3 classes of 50 instances each, where each class refers to a\\ntype of iris plant.  One class is linearly separable from the other 2; the\\nlatter are NOT linearly separable from each other.\\n\\n.. topic:: References\\n\\n   - Fisher, R.A. \"The use of multiple measurements in taxonomic problems\"\\n     Annual Eugenics, 7, Part II, 179-188 (1936); also in \"Contributions to\\n     Mathematical Statistics\" (John Wiley, NY, 1950).\\n   - Duda, R.O., & Hart, P.E. (1973) Pattern Classification and Scene Analysis.\\n     (Q327.D83) John Wiley & Sons.  ISBN 0-471-22361-1.  See page 218.\\n   - Dasarathy, B.V. (1980) \"Nosing Around the Neighborhood: A New System\\n     Structure and Classification Rule for Recognition in Partially Exposed\\n     Environments\".  IEEE Transactions on Pattern Analysis and Machine\\n     Intelligence, Vol. PAMI-2, No. 1, 67-71.\\n   - Gates, G.W. (1972) \"The Reduced Nearest Neighbor Rule\".  IEEE Transactions\\n     on Information Theory, May 1972, 431-433.\\n   - See also: 1988 MLC Proceedings, 54-64.  Cheeseman et al\"s AUTOCLASS II\\n     conceptual clustering system finds 3 classes in the data.\\n   - Many, many more ...',\n",
       " 'feature_names': ['sepal length (cm)',\n",
       "  'sepal width (cm)',\n",
       "  'petal length (cm)',\n",
       "  'petal width (cm)'],\n",
       " 'filename': 'iris.csv',\n",
       " 'data_module': 'sklearn.datasets.data'}"
      ]
     },
     "execution_count": 2,
     "metadata": {},
     "output_type": "execute_result"
    }
   ],
   "source": [
    "iris = load_iris()\n",
    "iris"
   ]
  },
  {
   "cell_type": "code",
   "execution_count": 3,
   "id": "3dc26ccc-0821-408f-b0e1-45f6d7ef1e4d",
   "metadata": {
    "execution": {
     "iopub.execute_input": "2023-04-04T08:44:54.870960Z",
     "iopub.status.busy": "2023-04-04T08:44:54.870328Z",
     "iopub.status.idle": "2023-04-04T08:44:54.876853Z",
     "shell.execute_reply": "2023-04-04T08:44:54.875968Z",
     "shell.execute_reply.started": "2023-04-04T08:44:54.870923Z"
    },
    "scrolled": true
   },
   "outputs": [
    {
     "data": {
      "text/plain": [
       "(150,)"
      ]
     },
     "execution_count": 3,
     "metadata": {},
     "output_type": "execute_result"
    }
   ],
   "source": [
    "iris.data\n",
    "iris.data.shape\n",
    "iris.target\n",
    "iris.target.shape"
   ]
  },
  {
   "cell_type": "code",
   "execution_count": 4,
   "id": "260663d1-bcb2-4f84-ab37-4262d7340f16",
   "metadata": {
    "execution": {
     "iopub.execute_input": "2023-04-04T09:01:00.553256Z",
     "iopub.status.busy": "2023-04-04T09:01:00.552024Z",
     "iopub.status.idle": "2023-04-04T09:01:00.559689Z",
     "shell.execute_reply": "2023-04-04T09:01:00.558833Z",
     "shell.execute_reply.started": "2023-04-04T09:01:00.553221Z"
    },
    "scrolled": true
   },
   "outputs": [
    {
     "data": {
      "text/plain": [
       "(112, 4)"
      ]
     },
     "execution_count": 4,
     "metadata": {},
     "output_type": "execute_result"
    }
   ],
   "source": [
    "from sklearn.model_selection import  train_test_split\n",
    "X_train, X_test, y_train, y_test  = train_test_split(iris.data, iris.target, test_size=0.25,   random_state=33)\n",
    "X_train\n",
    "X_train.shape\n"
   ]
  },
  {
   "cell_type": "code",
   "execution_count": 5,
   "id": "eefc392d-18fa-4752-b63b-01e878bd666d",
   "metadata": {
    "execution": {
     "iopub.execute_input": "2023-04-04T09:05:31.777059Z",
     "iopub.status.busy": "2023-04-04T09:05:31.776093Z",
     "iopub.status.idle": "2023-04-04T09:05:31.788800Z",
     "shell.execute_reply": "2023-04-04T09:05:31.787973Z",
     "shell.execute_reply.started": "2023-04-04T09:05:31.777022Z"
    },
    "scrolled": true
   },
   "outputs": [
    {
     "data": {
      "text/plain": [
       "array([[-0.91090798, -1.59775374, -0.15379535, -0.14784433],\n",
       "       [-1.0271058 ,  0.08448757, -1.15396123, -1.2248242 ],\n",
       "       [ 0.59966379, -1.59775374,  0.45741713,  0.25602312],\n",
       "       [ 0.01867465, -0.96691325,  0.23515805,  0.12140063],\n",
       "       [ 0.48346596, -0.33607276,  0.40185236,  0.25602312],\n",
       "       [-1.25950146,  0.29476773, -1.26509077, -1.2248242 ],\n",
       "       [-1.37569929,  0.71532806, -1.209526  , -1.09020172],\n",
       "       [-0.79471015, -1.17719341, -0.32048966, -0.01322185],\n",
       "       [-1.14330363,  0.71532806, -1.09839645, -1.2248242 ],\n",
       "       [ 2.45882905,  1.55644871,  1.56871255,  1.1983805 ],\n",
       "       [-0.79471015,  0.71532806, -1.15396123, -1.2248242 ],\n",
       "       [-0.79471015,  1.34616854, -1.15396123, -0.95557923],\n",
       "       [-0.21372101, -0.33607276,  0.01289896,  0.25602312],\n",
       "       [ 0.83205945, -0.1257926 ,  1.06862961,  0.92913553],\n",
       "       [-0.44611666,  1.76672887, -1.04283168, -0.95557923],\n",
       "       [ 1.41304859,  0.29476773,  0.62411145,  0.3906456 ],\n",
       "       [ 0.01867465, -0.54635292,  0.84637053,  1.73687043],\n",
       "       [ 2.22643339, -0.96691325,  1.84653641,  1.60224795],\n",
       "       [-0.32991883, -1.17719341,  0.23515805,  0.25602312],\n",
       "       [ 0.13487248,  0.29476773,  0.67967622,  0.92913553],\n",
       "       [-1.0271058 ,  1.13588838, -1.209526  , -1.35944668],\n",
       "       [-1.49189712, -1.59775374, -1.26509077, -1.09020172],\n",
       "       [ 0.59966379, -0.54635292,  0.84637053,  0.52526808],\n",
       "       [-1.60809495, -0.33607276, -1.209526  , -1.2248242 ],\n",
       "       [-0.91090798,  1.13588838, -1.209526  , -1.2248242 ],\n",
       "       [ 1.64544425, -0.1257926 ,  1.23532393,  0.65989057],\n",
       "       [ 0.25107031,  0.71532806,  0.5129819 ,  0.65989057],\n",
       "       [ 0.48346596, -1.8080339 ,  0.5129819 ,  0.52526808],\n",
       "       [ 1.8778399 , -0.54635292,  1.40201824,  1.06375802],\n",
       "       [ 1.18065293, -0.1257926 ,  1.06862961,  1.33300298],\n",
       "       [ 0.71586162, -0.54635292,  1.12419438,  1.46762546],\n",
       "       [-0.09752318, -1.17719341,  0.79080576,  1.1983805 ],\n",
       "       [-0.91090798,  0.92560822, -1.09839645, -0.68633427],\n",
       "       [-0.79471015,  1.55644871, -1.15396123, -1.09020172],\n",
       "       [ 1.18065293, -0.54635292,  0.67967622,  0.3906456 ],\n",
       "       [-0.67851232, -0.75663309,  0.17959328,  0.3906456 ],\n",
       "       [-0.79471015,  1.55644871, -1.09839645, -1.2248242 ],\n",
       "       [-0.21372101, -1.17719341,  0.17959328, -0.01322185],\n",
       "       [ 0.36726814, -0.1257926 ,  0.73524099,  0.92913553],\n",
       "       [ 0.94825728, -0.33607276,  0.56854667,  0.25602312],\n",
       "       [ 0.71586162, -0.54635292,  1.12419438,  1.33300298],\n",
       "       [-1.72429277, -0.1257926 , -1.37622031, -1.35944668],\n",
       "       [ 1.64544425,  1.13588838,  1.40201824,  1.87149291],\n",
       "       [-0.79471015,  0.92560822, -1.209526  , -1.2248242 ],\n",
       "       [ 0.59966379, -1.17719341,  0.73524099,  0.52526808],\n",
       "       [-1.60809495,  0.29476773, -1.26509077, -1.2248242 ],\n",
       "       [ 2.11023556, -0.1257926 ,  1.67984209,  1.33300298],\n",
       "       [ 0.71586162,  0.29476773,  0.5129819 ,  0.52526808],\n",
       "       [-0.79471015,  1.55644871, -0.93170214, -0.95557923],\n",
       "       [ 0.83205945,  0.29476773,  0.84637053,  1.1983805 ],\n",
       "       [ 0.59966379, -0.75663309,  0.73524099,  0.92913553],\n",
       "       [-0.91090798,  0.92560822, -1.26509077, -1.09020172],\n",
       "       [-0.67851232,  0.71532806, -1.209526  , -1.2248242 ],\n",
       "       [ 0.71586162, -0.75663309,  0.95750007,  1.06375802],\n",
       "       [ 0.01867465,  1.97700903, -1.32065554, -1.2248242 ],\n",
       "       [-0.09752318,  2.81812969, -1.15396123, -0.95557923],\n",
       "       [-1.37569929,  0.29476773, -1.209526  , -1.2248242 ],\n",
       "       [ 1.29685076,  0.08448757,  1.01306484,  1.33300298],\n",
       "       [ 0.59966379, -0.33607276,  1.12419438,  0.92913553],\n",
       "       [-0.32991883,  0.92560822, -1.26509077, -1.2248242 ],\n",
       "       [-0.09752318, -0.96691325, -0.04266581, -0.14784433],\n",
       "       [-0.91090798,  0.50504789, -1.209526  , -1.2248242 ],\n",
       "       [ 0.25107031, -1.8080339 ,  0.23515805, -0.14784433],\n",
       "       [-1.0271058 , -0.1257926 , -1.209526  , -1.2248242 ],\n",
       "       [-0.91090798, -2.22859423, -0.04266581, -0.14784433],\n",
       "       [ 0.94825728, -0.1257926 ,  0.45741713,  0.3906456 ],\n",
       "       [-0.09752318, -0.54635292,  0.5129819 ,  0.25602312],\n",
       "       [-0.32991883, -0.96691325,  0.45741713,  0.12140063],\n",
       "       [-0.32991883, -1.59775374,  0.23515805,  0.25602312],\n",
       "       [-1.14330363,  0.08448757, -1.09839645, -1.2248242 ],\n",
       "       [ 0.25107031, -0.33607276,  0.5129819 ,  0.52526808],\n",
       "       [-0.91090798, -0.1257926 , -1.09839645, -1.2248242 ],\n",
       "       [ 1.29685076,  0.08448757,  0.73524099,  0.52526808],\n",
       "       [ 1.06445511, -1.17719341,  1.23532393,  0.92913553],\n",
       "       [-0.56231449,  1.34616854, -1.15396123, -1.2248242 ],\n",
       "       [-0.67851232,  2.1872892 , -1.15396123, -1.35944668],\n",
       "       [-0.91090798,  0.71532806, -1.09839645, -0.95557923],\n",
       "       [-1.37569929,  1.13588838, -1.43178508, -1.2248242 ],\n",
       "       [ 2.22643339,  1.55644871,  1.73540686,  1.46762546],\n",
       "       [ 1.76164208, -0.33607276,  1.51314778,  0.92913553],\n",
       "       [-1.37569929,  0.08448757, -1.15396123, -1.2248242 ],\n",
       "       [-0.32991883, -1.38747358,  0.06846374, -0.14784433],\n",
       "       [ 0.01867465, -0.75663309,  0.17959328,  0.12140063],\n",
       "       [ 1.06445511,  0.50504789,  1.17975915,  1.33300298],\n",
       "       [ 0.01867465, -0.75663309,  0.29072282, -0.14784433],\n",
       "       [-0.44611666,  1.34616854, -1.15396123, -1.2248242 ],\n",
       "       [-0.91090798,  0.71532806, -1.15396123, -1.2248242 ],\n",
       "       [ 0.25107031, -0.75663309,  0.84637053,  0.65989057],\n",
       "       [-0.09752318, -0.54635292,  0.29072282,  0.25602312],\n",
       "       [ 0.36726814, -0.54635292,  0.62411145,  0.12140063],\n",
       "       [-0.79471015,  0.50504789, -1.04283168, -0.82095675],\n",
       "       [-0.21372101, -0.1257926 ,  0.29072282,  0.25602312],\n",
       "       [-0.44611666, -0.1257926 ,  0.5129819 ,  0.52526808],\n",
       "       [-0.44611666,  1.76672887, -1.26509077, -0.95557923],\n",
       "       [ 1.06445511,  0.50504789,  1.17975915,  1.87149291],\n",
       "       [-1.0271058 , -1.17719341,  0.5129819 ,  0.79451305],\n",
       "       [ 0.48346596,  0.71532806,  1.01306484,  1.60224795],\n",
       "       [-0.32991883, -1.38747358,  0.12402851, -0.01322185],\n",
       "       [ 2.22643339, -0.54635292,  1.73540686,  1.1983805 ],\n",
       "       [-0.44611666,  0.71532806, -1.15396123, -0.95557923],\n",
       "       [ 1.06445511, -0.1257926 ,  0.79080576,  0.79451305],\n",
       "       [-0.32991883,  2.39756936, -1.209526  , -1.2248242 ],\n",
       "       [-0.91090798,  0.29476773, -1.32065554, -1.2248242 ],\n",
       "       [-1.14330363, -0.1257926 , -1.209526  , -1.09020172],\n",
       "       [ 0.01867465, -0.75663309,  0.84637053,  1.06375802],\n",
       "       [ 0.13487248, -0.1257926 ,  0.34628759,  0.52526808],\n",
       "       [ 1.52924642, -0.1257926 ,  1.2908887 ,  1.33300298],\n",
       "       [-1.0271058 , -1.38747358, -0.15379535, -0.14784433],\n",
       "       [ 0.59966379, -1.17719341,  0.79080576,  1.06375802],\n",
       "       [-0.21372101, -0.1257926 ,  0.5129819 ,  0.52526808],\n",
       "       [ 2.22643339, -0.1257926 ,  1.40201824,  1.60224795],\n",
       "       [-0.44611666,  0.71532806, -1.04283168, -1.2248242 ]])"
      ]
     },
     "execution_count": 5,
     "metadata": {},
     "output_type": "execute_result"
    }
   ],
   "source": [
    "from sklearn.preprocessing import StandardScaler\n",
    "ss = StandardScaler()\n",
    "X_train = ss.fit_transform(X_train)\n",
    "X_test = ss.transform(X_test)\n",
    "X_train"
   ]
  },
  {
   "cell_type": "code",
   "execution_count": 6,
   "id": "5ebd7089-68c0-4429-93fd-ab2a80dc4256",
   "metadata": {
    "execution": {
     "iopub.execute_input": "2023-04-04T09:18:54.843163Z",
     "iopub.status.busy": "2023-04-04T09:18:54.842643Z",
     "iopub.status.idle": "2023-04-04T09:18:54.850734Z",
     "shell.execute_reply": "2023-04-04T09:18:54.849668Z",
     "shell.execute_reply.started": "2023-04-04T09:18:54.843124Z"
    },
    "scrolled": true
   },
   "outputs": [
    {
     "data": {
      "text/html": [
       "<style>#sk-container-id-1 {color: black;background-color: white;}#sk-container-id-1 pre{padding: 0;}#sk-container-id-1 div.sk-toggleable {background-color: white;}#sk-container-id-1 label.sk-toggleable__label {cursor: pointer;display: block;width: 100%;margin-bottom: 0;padding: 0.3em;box-sizing: border-box;text-align: center;}#sk-container-id-1 label.sk-toggleable__label-arrow:before {content: \"▸\";float: left;margin-right: 0.25em;color: #696969;}#sk-container-id-1 label.sk-toggleable__label-arrow:hover:before {color: black;}#sk-container-id-1 div.sk-estimator:hover label.sk-toggleable__label-arrow:before {color: black;}#sk-container-id-1 div.sk-toggleable__content {max-height: 0;max-width: 0;overflow: hidden;text-align: left;background-color: #f0f8ff;}#sk-container-id-1 div.sk-toggleable__content pre {margin: 0.2em;color: black;border-radius: 0.25em;background-color: #f0f8ff;}#sk-container-id-1 input.sk-toggleable__control:checked~div.sk-toggleable__content {max-height: 200px;max-width: 100%;overflow: auto;}#sk-container-id-1 input.sk-toggleable__control:checked~label.sk-toggleable__label-arrow:before {content: \"▾\";}#sk-container-id-1 div.sk-estimator input.sk-toggleable__control:checked~label.sk-toggleable__label {background-color: #d4ebff;}#sk-container-id-1 div.sk-label input.sk-toggleable__control:checked~label.sk-toggleable__label {background-color: #d4ebff;}#sk-container-id-1 input.sk-hidden--visually {border: 0;clip: rect(1px 1px 1px 1px);clip: rect(1px, 1px, 1px, 1px);height: 1px;margin: -1px;overflow: hidden;padding: 0;position: absolute;width: 1px;}#sk-container-id-1 div.sk-estimator {font-family: monospace;background-color: #f0f8ff;border: 1px dotted black;border-radius: 0.25em;box-sizing: border-box;margin-bottom: 0.5em;}#sk-container-id-1 div.sk-estimator:hover {background-color: #d4ebff;}#sk-container-id-1 div.sk-parallel-item::after {content: \"\";width: 100%;border-bottom: 1px solid gray;flex-grow: 1;}#sk-container-id-1 div.sk-label:hover label.sk-toggleable__label {background-color: #d4ebff;}#sk-container-id-1 div.sk-serial::before {content: \"\";position: absolute;border-left: 1px solid gray;box-sizing: border-box;top: 0;bottom: 0;left: 50%;z-index: 0;}#sk-container-id-1 div.sk-serial {display: flex;flex-direction: column;align-items: center;background-color: white;padding-right: 0.2em;padding-left: 0.2em;position: relative;}#sk-container-id-1 div.sk-item {position: relative;z-index: 1;}#sk-container-id-1 div.sk-parallel {display: flex;align-items: stretch;justify-content: center;background-color: white;position: relative;}#sk-container-id-1 div.sk-item::before, #sk-container-id-1 div.sk-parallel-item::before {content: \"\";position: absolute;border-left: 1px solid gray;box-sizing: border-box;top: 0;bottom: 0;left: 50%;z-index: -1;}#sk-container-id-1 div.sk-parallel-item {display: flex;flex-direction: column;z-index: 1;position: relative;background-color: white;}#sk-container-id-1 div.sk-parallel-item:first-child::after {align-self: flex-end;width: 50%;}#sk-container-id-1 div.sk-parallel-item:last-child::after {align-self: flex-start;width: 50%;}#sk-container-id-1 div.sk-parallel-item:only-child::after {width: 0;}#sk-container-id-1 div.sk-dashed-wrapped {border: 1px dashed gray;margin: 0 0.4em 0.5em 0.4em;box-sizing: border-box;padding-bottom: 0.4em;background-color: white;}#sk-container-id-1 div.sk-label label {font-family: monospace;font-weight: bold;display: inline-block;line-height: 1.2em;}#sk-container-id-1 div.sk-label-container {text-align: center;}#sk-container-id-1 div.sk-container {/* jupyter's `normalize.less` sets `[hidden] { display: none; }` but bootstrap.min.css set `[hidden] { display: none !important; }` so we also need the `!important` here to be able to override the default hidden behavior on the sphinx rendered scikit-learn.org. See: https://github.com/scikit-learn/scikit-learn/issues/21755 */display: inline-block !important;position: relative;}#sk-container-id-1 div.sk-text-repr-fallback {display: none;}</style><div id=\"sk-container-id-1\" class=\"sk-top-container\"><div class=\"sk-text-repr-fallback\"><pre>KNeighborsClassifier(n_neighbors=3)</pre><b>In a Jupyter environment, please rerun this cell to show the HTML representation or trust the notebook. <br />On GitHub, the HTML representation is unable to render, please try loading this page with nbviewer.org.</b></div><div class=\"sk-container\" hidden><div class=\"sk-item\"><div class=\"sk-estimator sk-toggleable\"><input class=\"sk-toggleable__control sk-hidden--visually\" id=\"sk-estimator-id-1\" type=\"checkbox\" checked><label for=\"sk-estimator-id-1\" class=\"sk-toggleable__label sk-toggleable__label-arrow\">KNeighborsClassifier</label><div class=\"sk-toggleable__content\"><pre>KNeighborsClassifier(n_neighbors=3)</pre></div></div></div></div></div>"
      ],
      "text/plain": [
       "KNeighborsClassifier(n_neighbors=3)"
      ]
     },
     "execution_count": 6,
     "metadata": {},
     "output_type": "execute_result"
    }
   ],
   "source": [
    "from sklearn.neighbors import KNeighborsClassifier\n",
    "\n",
    "knc = KNeighborsClassifier(3)\n",
    "knc.fit(X_train, y_train)\n"
   ]
  },
  {
   "cell_type": "code",
   "execution_count": 7,
   "id": "fc4cf58e-d818-439e-8f33-91e01bb6b421",
   "metadata": {
    "execution": {
     "iopub.execute_input": "2023-04-04T09:19:36.851601Z",
     "iopub.status.busy": "2023-04-04T09:19:36.850973Z",
     "iopub.status.idle": "2023-04-04T09:19:36.864238Z",
     "shell.execute_reply": "2023-04-04T09:19:36.863191Z",
     "shell.execute_reply.started": "2023-04-04T09:19:36.851568Z"
    },
    "scrolled": true
   },
   "outputs": [
    {
     "name": "stdout",
     "output_type": "stream",
     "text": [
      "The accuracy of K-Nearest Neighbor Classifier is 0.8947368421052632\n"
     ]
    }
   ],
   "source": [
    "y_predict = knc.predict(X_test)\n",
    "print ('The accuracy of K-Nearest Neighbor Classifier is', knc.score(X_test, y_test))\n"
   ]
  },
  {
   "cell_type": "code",
   "execution_count": 8,
   "id": "7f55f514-5f80-4cf0-95db-91a61a18bb05",
   "metadata": {
    "execution": {
     "iopub.execute_input": "2023-03-29T09:20:26.777091Z",
     "iopub.status.busy": "2023-03-29T09:20:26.776066Z",
     "iopub.status.idle": "2023-03-29T09:20:26.784752Z",
     "shell.execute_reply": "2023-03-29T09:20:26.783966Z",
     "shell.execute_reply.started": "2023-03-29T09:20:26.777055Z"
    },
    "scrolled": true
   },
   "outputs": [
    {
     "name": "stdout",
     "output_type": "stream",
     "text": [
      "              precision    recall  f1-score   support\n",
      "\n",
      "      setosa       1.00      1.00      1.00         8\n",
      "  versicolor       0.73      1.00      0.85        11\n",
      "   virginica       1.00      0.79      0.88        19\n",
      "\n",
      "    accuracy                           0.89        38\n",
      "   macro avg       0.91      0.93      0.91        38\n",
      "weighted avg       0.92      0.89      0.90        38\n",
      "\n"
     ]
    }
   ],
   "source": [
    "from sklearn.metrics import classification_report\n",
    "print (classification_report(y_test, y_predict, target_names=iris.target_names))"
   ]
  }
 ],
 "metadata": {
  "kernelspec": {
   "display_name": "Python 3",
   "language": "python",
   "name": "python3"
  },
  "language_info": {
   "codemirror_mode": {
    "name": "ipython",
    "version": 3
   },
   "file_extension": ".py",
   "mimetype": "text/x-python",
   "name": "python",
   "nbconvert_exporter": "python",
   "pygments_lexer": "ipython3",
   "version": "3.10.10"
  }
 },
 "nbformat": 4,
 "nbformat_minor": 5
}
