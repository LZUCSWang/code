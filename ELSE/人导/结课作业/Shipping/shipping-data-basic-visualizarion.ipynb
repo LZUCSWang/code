{
 "cells": [
  {
   "cell_type": "code",
   "execution_count": 1,
   "id": "b67c00ea",
   "metadata": {
    "_cell_guid": "b1076dfc-b9ad-4769-8c92-a6c4dae69d19",
    "_uuid": "8f2839f25d086af736a60e9eeb907d3b93b6e0e5",
    "execution": {
     "iopub.execute_input": "2023-01-21T14:57:36.693268Z",
     "iopub.status.busy": "2023-01-21T14:57:36.692462Z",
     "iopub.status.idle": "2023-01-21T14:57:36.720531Z",
     "shell.execute_reply": "2023-01-21T14:57:36.718821Z"
    },
    "papermill": {
     "duration": 0.041022,
     "end_time": "2023-01-21T14:57:36.724900",
     "exception": false,
     "start_time": "2023-01-21T14:57:36.683878",
     "status": "completed"
    },
    "tags": []
   },
   "outputs": [],
   "source": [
    "# This Python 3 environment comes with many helpful analytics libraries installed\n",
    "# It is defined by the kaggle/python Docker image: https://github.com/kaggle/docker-python\n",
    "# For example, here's several helpful packages to load\n",
    "\n",
    "import numpy as np # linear algebra\n",
    "import pandas as pd # data processing, CSV file I/O (e.g. pd.read_csv)\n",
    "\n",
    "# Input data files are available in the read-only \"../input/\" directory\n",
    "# For example, running this (by clicking run or pressing Shift+Enter) will list all files under the input directory\n",
    "\n",
    "import os\n",
    "for dirname, _, filenames in os.walk('/kaggle/input'):\n",
    "    for filename in filenames:\n",
    "        print(os.path.join(dirname, filename))\n",
    "\n",
    "# You can write up to 20GB to the current directory (/kaggle/working/) that gets preserved as output when you create a version using \"Save & Run All\" \n",
    "# You can also write temporary files to /kaggle/temp/, but they won't be saved outside of the current session"
   ]
  },
  {
   "cell_type": "code",
   "execution_count": 2,
   "id": "27d277c6",
   "metadata": {
    "execution": {
     "iopub.execute_input": "2023-01-21T14:57:36.738940Z",
     "iopub.status.busy": "2023-01-21T14:57:36.738446Z",
     "iopub.status.idle": "2023-01-21T14:57:38.017844Z",
     "shell.execute_reply": "2023-01-21T14:57:38.016328Z"
    },
    "papermill": {
     "duration": 1.289962,
     "end_time": "2023-01-21T14:57:38.021220",
     "exception": false,
     "start_time": "2023-01-21T14:57:36.731258",
     "status": "completed"
    },
    "tags": []
   },
   "outputs": [],
   "source": [
    "import pandas as pd\n",
    "import numpy as np\n",
    "import matplotlib.pyplot as plt\n",
    "import seaborn as sns"
   ]
  },
  {
   "cell_type": "code",
   "execution_count": 3,
   "id": "a83c169a",
   "metadata": {
    "execution": {
     "iopub.execute_input": "2023-01-21T14:57:38.034913Z",
     "iopub.status.busy": "2023-01-21T14:57:38.033981Z",
     "iopub.status.idle": "2023-01-21T14:57:38.082303Z",
     "shell.execute_reply": "2023-01-21T14:57:38.080853Z"
    },
    "papermill": {
     "duration": 0.058889,
     "end_time": "2023-01-21T14:57:38.085641",
     "exception": false,
     "start_time": "2023-01-21T14:57:38.026752",
     "status": "completed"
    },
    "tags": []
   },
   "outputs": [],
   "source": [
    "df = pd.read_csv(\"Train.csv\")"
   ]
  },
  {
   "cell_type": "code",
   "execution_count": 4,
   "id": "7fe495e0",
   "metadata": {
    "execution": {
     "iopub.execute_input": "2023-01-21T14:57:38.098593Z",
     "iopub.status.busy": "2023-01-21T14:57:38.098091Z",
     "iopub.status.idle": "2023-01-21T14:57:38.115768Z",
     "shell.execute_reply": "2023-01-21T14:57:38.114683Z"
    },
    "papermill": {
     "duration": 0.027393,
     "end_time": "2023-01-21T14:57:38.118378",
     "exception": false,
     "start_time": "2023-01-21T14:57:38.090985",
     "status": "completed"
    },
    "tags": []
   },
   "outputs": [
    {
     "data": {
      "text/plain": [
       "ID                     0\n",
       "Warehouse_block        0\n",
       "Mode_of_Shipment       0\n",
       "Customer_care_calls    0\n",
       "Customer_rating        0\n",
       "Cost_of_the_Product    0\n",
       "Prior_purchases        0\n",
       "Product_importance     0\n",
       "Gender                 0\n",
       "Discount_offered       0\n",
       "Weight_in_gms          0\n",
       "Reached.on.Time_Y.N    0\n",
       "dtype: int64"
      ]
     },
     "execution_count": 4,
     "metadata": {},
     "output_type": "execute_result"
    }
   ],
   "source": [
    "df.isnull().sum()"
   ]
  },
  {
   "cell_type": "code",
   "execution_count": 5,
   "id": "ffbaef75",
   "metadata": {
    "execution": {
     "iopub.execute_input": "2023-01-21T14:57:38.132250Z",
     "iopub.status.busy": "2023-01-21T14:57:38.131414Z",
     "iopub.status.idle": "2023-01-21T14:57:38.138539Z",
     "shell.execute_reply": "2023-01-21T14:57:38.137404Z"
    },
    "papermill": {
     "duration": 0.017246,
     "end_time": "2023-01-21T14:57:38.141179",
     "exception": false,
     "start_time": "2023-01-21T14:57:38.123933",
     "status": "completed"
    },
    "tags": []
   },
   "outputs": [
    {
     "data": {
      "text/plain": [
       "(10999, 12)"
      ]
     },
     "execution_count": 5,
     "metadata": {},
     "output_type": "execute_result"
    }
   ],
   "source": [
    "df.shape"
   ]
  },
  {
   "cell_type": "code",
   "execution_count": 6,
   "id": "dc7b08e3",
   "metadata": {
    "execution": {
     "iopub.execute_input": "2023-01-21T14:57:38.154313Z",
     "iopub.status.busy": "2023-01-21T14:57:38.153708Z",
     "iopub.status.idle": "2023-01-21T14:57:38.172524Z",
     "shell.execute_reply": "2023-01-21T14:57:38.171188Z"
    },
    "papermill": {
     "duration": 0.028779,
     "end_time": "2023-01-21T14:57:38.175431",
     "exception": false,
     "start_time": "2023-01-21T14:57:38.146652",
     "status": "completed"
    },
    "tags": []
   },
   "outputs": [
    {
     "name": "stdout",
     "output_type": "stream",
     "text": [
      "Cost_of_the_Product in Product_importance_medium mean : 209.38241480858224\n",
      "Cost_of_the_Product in Product_importance_medium max : 310\n",
      "Cost_of_the_Product in Product_importance_medium min : 96\n"
     ]
    }
   ],
   "source": [
    "df_medium = df[df[\"Product_importance\"]==\"medium\"]\n",
    "Product_importance_mean =df_medium[\"Cost_of_the_Product\"].mean()\n",
    "Product_importance_max =df_medium[\"Cost_of_the_Product\"].max()\n",
    "Product_importance_min =df_medium[\"Cost_of_the_Product\"].min()\n",
    "print(f\"Cost_of_the_Product in Product_importance_medium mean : {Product_importance_mean}\")\n",
    "print(f\"Cost_of_the_Product in Product_importance_medium max : {Product_importance_max}\")\n",
    "print(f\"Cost_of_the_Product in Product_importance_medium min : {Product_importance_min}\")"
   ]
  },
  {
   "cell_type": "code",
   "execution_count": 7,
   "id": "774863c1",
   "metadata": {
    "execution": {
     "iopub.execute_input": "2023-01-21T14:57:38.189595Z",
     "iopub.status.busy": "2023-01-21T14:57:38.189077Z",
     "iopub.status.idle": "2023-01-21T14:57:38.202553Z",
     "shell.execute_reply": "2023-01-21T14:57:38.200793Z"
    },
    "papermill": {
     "duration": 0.024345,
     "end_time": "2023-01-21T14:57:38.205893",
     "exception": false,
     "start_time": "2023-01-21T14:57:38.181548",
     "status": "completed"
    },
    "tags": []
   },
   "outputs": [
    {
     "name": "stdout",
     "output_type": "stream",
     "text": [
      "Cost_of_the_Product in Product_importance_low mean : 212.05984519539362\n",
      "Cost_of_the_Product in Product_importance_low max : 310\n",
      "Cost_of_the_Product in Product_importance_low min : 96\n"
     ]
    }
   ],
   "source": [
    "df_low = df[df[\"Product_importance\"]==\"low\"]\n",
    "Product_importance_mean =df_low[\"Cost_of_the_Product\"].mean()\n",
    "Product_importance_max =df_low[\"Cost_of_the_Product\"].max()\n",
    "Product_importance_min =df_low[\"Cost_of_the_Product\"].min()\n",
    "print(f\"Cost_of_the_Product in Product_importance_low mean : {Product_importance_mean}\")\n",
    "print(f\"Cost_of_the_Product in Product_importance_low max : {Product_importance_max}\")\n",
    "print(f\"Cost_of_the_Product in Product_importance_low min : {Product_importance_min}\")"
   ]
  },
  {
   "cell_type": "code",
   "execution_count": 8,
   "id": "d7303bd2",
   "metadata": {
    "execution": {
     "iopub.execute_input": "2023-01-21T14:57:38.220602Z",
     "iopub.status.busy": "2023-01-21T14:57:38.219787Z",
     "iopub.status.idle": "2023-01-21T14:57:38.229639Z",
     "shell.execute_reply": "2023-01-21T14:57:38.228683Z"
    },
    "papermill": {
     "duration": 0.021104,
     "end_time": "2023-01-21T14:57:38.233031",
     "exception": false,
     "start_time": "2023-01-21T14:57:38.211927",
     "status": "completed"
    },
    "tags": []
   },
   "outputs": [
    {
     "name": "stdout",
     "output_type": "stream",
     "text": [
      "Cost_of_the_Product in Product_importance_high mean : 203.87130801687763\n",
      "Cost_of_the_Product in Product_importance_high max : 307\n",
      "Cost_of_the_Product in Product_importance_high min : 96\n"
     ]
    }
   ],
   "source": [
    "df_high = df[df[\"Product_importance\"]==\"high\"]\n",
    "Product_importance_mean =df_high[\"Cost_of_the_Product\"].mean()\n",
    "Product_importance_max =df_high[\"Cost_of_the_Product\"].max()\n",
    "Product_importance_min =df_high[\"Cost_of_the_Product\"].min()\n",
    "print(f\"Cost_of_the_Product in Product_importance_high mean : {Product_importance_mean}\")\n",
    "print(f\"Cost_of_the_Product in Product_importance_high max : {Product_importance_max}\")\n",
    "print(f\"Cost_of_the_Product in Product_importance_high min : {Product_importance_min}\")"
   ]
  },
  {
   "cell_type": "code",
   "execution_count": 9,
   "id": "f89faed9",
   "metadata": {
    "execution": {
     "iopub.execute_input": "2023-01-21T14:57:38.248172Z",
     "iopub.status.busy": "2023-01-21T14:57:38.247370Z",
     "iopub.status.idle": "2023-01-21T14:57:38.291526Z",
     "shell.execute_reply": "2023-01-21T14:57:38.289920Z"
    },
    "papermill": {
     "duration": 0.055378,
     "end_time": "2023-01-21T14:57:38.294896",
     "exception": false,
     "start_time": "2023-01-21T14:57:38.239518",
     "status": "completed"
    },
    "tags": []
   },
   "outputs": [
    {
     "data": {
      "text/html": [
       "<div>\n",
       "<style scoped>\n",
       "    .dataframe tbody tr th:only-of-type {\n",
       "        vertical-align: middle;\n",
       "    }\n",
       "\n",
       "    .dataframe tbody tr th {\n",
       "        vertical-align: top;\n",
       "    }\n",
       "\n",
       "    .dataframe thead th {\n",
       "        text-align: right;\n",
       "    }\n",
       "</style>\n",
       "<table border=\"1\" class=\"dataframe\">\n",
       "  <thead>\n",
       "    <tr style=\"text-align: right;\">\n",
       "      <th>Product_importance</th>\n",
       "      <th>high</th>\n",
       "      <th>low</th>\n",
       "      <th>medium</th>\n",
       "    </tr>\n",
       "    <tr>\n",
       "      <th>Gender</th>\n",
       "      <th></th>\n",
       "      <th></th>\n",
       "      <th></th>\n",
       "    </tr>\n",
       "  </thead>\n",
       "  <tbody>\n",
       "    <tr>\n",
       "      <th>F</th>\n",
       "      <td>470</td>\n",
       "      <td>2652</td>\n",
       "      <td>2423</td>\n",
       "    </tr>\n",
       "    <tr>\n",
       "      <th>M</th>\n",
       "      <td>478</td>\n",
       "      <td>2645</td>\n",
       "      <td>2331</td>\n",
       "    </tr>\n",
       "  </tbody>\n",
       "</table>\n",
       "</div>"
      ],
      "text/plain": [
       "Product_importance  high   low  medium\n",
       "Gender                                \n",
       "F                    470  2652    2423\n",
       "M                    478  2645    2331"
      ]
     },
     "execution_count": 9,
     "metadata": {},
     "output_type": "execute_result"
    }
   ],
   "source": [
    " gender = df.pivot_table(index=\"Gender\",columns=\"Product_importance\",values=\"Cost_of_the_Product\",aggfunc=\"count\")\n",
    " gender"
   ]
  },
  {
   "cell_type": "code",
   "execution_count": 10,
   "id": "33939fe6",
   "metadata": {
    "execution": {
     "iopub.execute_input": "2023-01-21T14:57:38.310097Z",
     "iopub.status.busy": "2023-01-21T14:57:38.308995Z",
     "iopub.status.idle": "2023-01-21T14:57:38.575287Z",
     "shell.execute_reply": "2023-01-21T14:57:38.574243Z"
    },
    "papermill": {
     "duration": 0.276898,
     "end_time": "2023-01-21T14:57:38.577876",
     "exception": false,
     "start_time": "2023-01-21T14:57:38.300978",
     "status": "completed"
    },
    "tags": []
   },
   "outputs": [
    {
     "data": {
      "image/png": "[encoded data removed]",
      "text/plain": [
       "<Figure size 640x480 with 1 Axes>"
      ]
     },
     "metadata": {},
     "output_type": "display_data"
    }
   ],
   "source": [
    "gender.plot(kind='bar')\n",
    "plt.show()"
   ]
  },
  {
   "cell_type": "code",
   "execution_count": 11,
   "id": "0667ab30",
   "metadata": {
    "execution": {
     "iopub.execute_input": "2023-01-21T14:57:38.593276Z",
     "iopub.status.busy": "2023-01-21T14:57:38.592465Z",
     "iopub.status.idle": "2023-01-21T14:57:38.616598Z",
     "shell.execute_reply": "2023-01-21T14:57:38.615554Z"
    },
    "papermill": {
     "duration": 0.034896,
     "end_time": "2023-01-21T14:57:38.619219",
     "exception": false,
     "start_time": "2023-01-21T14:57:38.584323",
     "status": "completed"
    },
    "tags": []
   },
   "outputs": [
    {
     "data": {
      "text/html": [
       "<div>\n",
       "<style scoped>\n",
       "    .dataframe tbody tr th:only-of-type {\n",
       "        vertical-align: middle;\n",
       "    }\n",
       "\n",
       "    .dataframe tbody tr th {\n",
       "        vertical-align: top;\n",
       "    }\n",
       "\n",
       "    .dataframe thead th {\n",
       "        text-align: right;\n",
       "    }\n",
       "</style>\n",
       "<table border=\"1\" class=\"dataframe\">\n",
       "  <thead>\n",
       "    <tr style=\"text-align: right;\">\n",
       "      <th></th>\n",
       "      <th>Customer_rating</th>\n",
       "    </tr>\n",
       "    <tr>\n",
       "      <th>Product_importance</th>\n",
       "      <th></th>\n",
       "    </tr>\n",
       "  </thead>\n",
       "  <tbody>\n",
       "    <tr>\n",
       "      <th>high</th>\n",
       "      <td>2.993671</td>\n",
       "    </tr>\n",
       "    <tr>\n",
       "      <th>low</th>\n",
       "      <td>2.983576</td>\n",
       "    </tr>\n",
       "    <tr>\n",
       "      <th>medium</th>\n",
       "      <td>2.997686</td>\n",
       "    </tr>\n",
       "  </tbody>\n",
       "</table>\n",
       "</div>"
      ],
      "text/plain": [
       "                    Customer_rating\n",
       "Product_importance                 \n",
       "high                       2.993671\n",
       "low                        2.983576\n",
       "medium                     2.997686"
      ]
     },
     "execution_count": 11,
     "metadata": {},
     "output_type": "execute_result"
    }
   ],
   "source": [
    "Custmor_rating_K = df.pivot_table(index=\"Product_importance\",values=\"Customer_rating\",aggfunc=\"mean\")\n",
    "Custmor_rating_K"
   ]
  },
  {
   "cell_type": "code",
   "execution_count": 12,
   "id": "ca6efe50",
   "metadata": {
    "execution": {
     "iopub.execute_input": "2023-01-21T14:57:38.635501Z",
     "iopub.status.busy": "2023-01-21T14:57:38.634602Z",
     "iopub.status.idle": "2023-01-21T14:57:38.657912Z",
     "shell.execute_reply": "2023-01-21T14:57:38.656559Z"
    },
    "papermill": {
     "duration": 0.035168,
     "end_time": "2023-01-21T14:57:38.660860",
     "exception": false,
     "start_time": "2023-01-21T14:57:38.625692",
     "status": "completed"
    },
    "tags": []
   },
   "outputs": [
    {
     "data": {
      "text/html": [
       "<div>\n",
       "<style scoped>\n",
       "    .dataframe tbody tr th:only-of-type {\n",
       "        vertical-align: middle;\n",
       "    }\n",
       "\n",
       "    .dataframe tbody tr th {\n",
       "        vertical-align: top;\n",
       "    }\n",
       "\n",
       "    .dataframe thead th {\n",
       "        text-align: right;\n",
       "    }\n",
       "</style>\n",
       "<table border=\"1\" class=\"dataframe\">\n",
       "  <thead>\n",
       "    <tr style=\"text-align: right;\">\n",
       "      <th></th>\n",
       "      <th>Cost_of_the_Product</th>\n",
       "    </tr>\n",
       "    <tr>\n",
       "      <th>Discount_offered</th>\n",
       "      <th></th>\n",
       "    </tr>\n",
       "  </thead>\n",
       "  <tbody>\n",
       "    <tr>\n",
       "      <th>1</th>\n",
       "      <td>214.014563</td>\n",
       "    </tr>\n",
       "    <tr>\n",
       "      <th>2</th>\n",
       "      <td>215.913753</td>\n",
       "    </tr>\n",
       "    <tr>\n",
       "      <th>3</th>\n",
       "      <td>214.894048</td>\n",
       "    </tr>\n",
       "    <tr>\n",
       "      <th>4</th>\n",
       "      <td>213.181818</td>\n",
       "    </tr>\n",
       "    <tr>\n",
       "      <th>5</th>\n",
       "      <td>213.454321</td>\n",
       "    </tr>\n",
       "    <tr>\n",
       "      <th>...</th>\n",
       "      <td>...</td>\n",
       "    </tr>\n",
       "    <tr>\n",
       "      <th>61</th>\n",
       "      <td>204.981132</td>\n",
       "    </tr>\n",
       "    <tr>\n",
       "      <th>62</th>\n",
       "      <td>200.734694</td>\n",
       "    </tr>\n",
       "    <tr>\n",
       "      <th>63</th>\n",
       "      <td>196.245283</td>\n",
       "    </tr>\n",
       "    <tr>\n",
       "      <th>64</th>\n",
       "      <td>191.837209</td>\n",
       "    </tr>\n",
       "    <tr>\n",
       "      <th>65</th>\n",
       "      <td>193.444444</td>\n",
       "    </tr>\n",
       "  </tbody>\n",
       "</table>\n",
       "<p>65 rows × 1 columns</p>\n",
       "</div>"
      ],
      "text/plain": [
       "                  Cost_of_the_Product\n",
       "Discount_offered                     \n",
       "1                          214.014563\n",
       "2                          215.913753\n",
       "3                          214.894048\n",
       "4                          213.181818\n",
       "5                          213.454321\n",
       "...                               ...\n",
       "61                         204.981132\n",
       "62                         200.734694\n",
       "63                         196.245283\n",
       "64                         191.837209\n",
       "65                         193.444444\n",
       "\n",
       "[65 rows x 1 columns]"
      ]
     },
     "execution_count": 12,
     "metadata": {},
     "output_type": "execute_result"
    }
   ],
   "source": [
    "Discount_offrtrd = df.pivot_table(index=\"Discount_offered\",values=\"Cost_of_the_Product\",aggfunc=\"mean\")\n",
    "Discount_offrtrd"
   ]
  },
  {
   "cell_type": "code",
   "execution_count": 13,
   "id": "c26894a4",
   "metadata": {
    "execution": {
     "iopub.execute_input": "2023-01-21T14:57:38.676057Z",
     "iopub.status.busy": "2023-01-21T14:57:38.675525Z",
     "iopub.status.idle": "2023-01-21T14:57:38.934104Z",
     "shell.execute_reply": "2023-01-21T14:57:38.932607Z"
    },
    "papermill": {
     "duration": 0.269786,
     "end_time": "2023-01-21T14:57:38.937304",
     "exception": false,
     "start_time": "2023-01-21T14:57:38.667518",
     "status": "completed"
    },
    "tags": []
   },
   "outputs": [
    {
     "data": {
      "text/plain": [
       "<AxesSubplot:title={'center':'Discount_offered vs Cost_of_the_Product'}, xlabel='Discount_offered'>"
      ]
     },
     "execution_count": 13,
     "metadata": {},
     "output_type": "execute_result"
    },
    {
     "data": {
      "image/png": "[encoded data removed]",
      "text/plain": [
       "<Figure size 640x480 with 1 Axes>"
      ]
     },
     "metadata": {},
     "output_type": "display_data"
    }
   ],
   "source": [
    "Discount_offrtrd.plot(color='blue',title =  \"Discount_offered vs Cost_of_the_Product\")"
   ]
  },
  {
   "cell_type": "code",
   "execution_count": 14,
   "id": "70bd86c3",
   "metadata": {
    "execution": {
     "iopub.execute_input": "2023-01-21T14:57:38.954194Z",
     "iopub.status.busy": "2023-01-21T14:57:38.953528Z",
     "iopub.status.idle": "2023-01-21T14:57:39.205241Z",
     "shell.execute_reply": "2023-01-21T14:57:39.203890Z"
    },
    "papermill": {
     "duration": 0.263764,
     "end_time": "2023-01-21T14:57:39.208419",
     "exception": false,
     "start_time": "2023-01-21T14:57:38.944655",
     "status": "completed"
    },
    "tags": []
   },
   "outputs": [
    {
     "data": {
      "text/plain": [
       "<AxesSubplot:xlabel='Mode_of_Shipment', ylabel='count'>"
      ]
     },
     "execution_count": 14,
     "metadata": {},
     "output_type": "execute_result"
    },
    {
     "data": {
      "image/png": "[encoded data removed]",
      "text/plain": [
       "<Figure size 640x480 with 1 Axes>"
      ]
     },
     "metadata": {},
     "output_type": "display_data"
    }
   ],
   "source": [
    "sns.countplot(data=df,x=\"Mode_of_Shipment\",hue='Reached.on.Time_Y.N',palette=\"pastel\")"
   ]
  },
  {
   "cell_type": "code",
   "execution_count": 15,
   "id": "28c688ff",
   "metadata": {
    "execution": {
     "iopub.execute_input": "2023-01-21T14:57:39.225916Z",
     "iopub.status.busy": "2023-01-21T14:57:39.225373Z",
     "iopub.status.idle": "2023-01-21T14:57:39.232478Z",
     "shell.execute_reply": "2023-01-21T14:57:39.231516Z"
    },
    "papermill": {
     "duration": 0.018446,
     "end_time": "2023-01-21T14:57:39.234573",
     "exception": false,
     "start_time": "2023-01-21T14:57:39.216127",
     "status": "completed"
    },
    "tags": []
   },
   "outputs": [],
   "source": [
    "Product_importance = df[\"Product_importance\"].value_counts()"
   ]
  },
  {
   "cell_type": "code",
   "execution_count": 16,
   "id": "9e9bd3a6",
   "metadata": {
    "execution": {
     "iopub.execute_input": "2023-01-21T14:57:39.253900Z",
     "iopub.status.busy": "2023-01-21T14:57:39.253167Z",
     "iopub.status.idle": "2023-01-21T14:57:39.401787Z",
     "shell.execute_reply": "2023-01-21T14:57:39.399791Z"
    },
    "papermill": {
     "duration": 0.16315,
     "end_time": "2023-01-21T14:57:39.406905",
     "exception": false,
     "start_time": "2023-01-21T14:57:39.243755",
     "status": "completed"
    },
    "tags": []
   },
   "outputs": [
    {
     "name": "stderr",
     "output_type": "stream",
     "text": [
      "C:\\Users\\29492\\AppData\\Local\\Temp\\ipykernel_18008\\671420949.py:5: UserWarning: Matplotlib is currently using module://matplotlib_inline.backend_inline, which is a non-GUI backend, so cannot show the figure.\n",
      "  fig.show()\n"
     ]
    },
    {
     "data": {
      "image/png": "[encoded data removed]",
      "text/plain": [
       "<Figure size 640x480 with 1 Axes>"
      ]
     },
     "metadata": {},
     "output_type": "display_data"
    }
   ],
   "source": [
    "explode = (0.1, 0, 0)\n",
    "fig , ax = plt.subplots()\n",
    "ax.pie(Product_importance,labels=Product_importance.index,explode=explode,autopct='%1.1f%%',shadow=True, startangle=90)\n",
    "ax.set(aspect=\"equal\", title='Product_importance')\n",
    "fig.show()"
   ]
  }
 ],
 "metadata": {
  "kernelspec": {
   "display_name": "Python 3",
   "language": "python",
   "name": "python3"
  },
  "language_info": {
   "codemirror_mode": {
    "name": "ipython",
    "version": 3
   },
   "file_extension": ".py",
   "mimetype": "text/x-python",
   "name": "python",
   "nbconvert_exporter": "python",
   "pygments_lexer": "ipython3",
   "version": "3.10.4"
  },
  "papermill": {
   "default_parameters": {},
   "duration": 13.090541,
   "end_time": "2023-01-21T14:57:40.393820",
   "environment_variables": {},
   "exception": null,
   "input_path": "__notebook__.ipynb",
   "output_path": "__notebook__.ipynb",
   "parameters": {},
   "start_time": "2023-01-21T14:57:27.303279",
   "version": "2.3.4"
  }
 },
 "nbformat": 4,
 "nbformat_minor": 5
}
