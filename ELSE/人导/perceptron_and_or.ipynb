{
 "cells": [
  {
   "attachments": {},
   "cell_type": "markdown",
   "metadata": {},
   "source": [
    "## And\n",
    "self.b = -2  # 初始化偏置为-2"
   ]
  },
  {
   "cell_type": "code",
   "execution_count": 1,
   "metadata": {},
   "outputs": [
    {
     "name": "stdout",
     "output_type": "stream",
     "text": [
      "[1 1] -2\n",
      "0 and 0 = 0\n",
      "0 and 1 = 0\n",
      "1 and 0 = 0\n",
      "1 and 1 = 1\n"
     ]
    }
   ],
   "source": [
    "# 导入NumPy库，用于处理数组和矩阵运算\n",
    "import numpy as np\n",
    "\n",
    "# 定义一个感知机类\n",
    "class Perceptron(object):\n",
    "    \"\"\"Implements a perceptron network\"\"\"\n",
    "\n",
    "    # 构造函数，初始化权重和偏置\n",
    "    def __init__(self, input_size):\n",
    "        self.W = np.array([1, 1])  # 初始化权重为[1, 1]\n",
    "        self.b = -2  # 初始化偏置为-2\n",
    "\n",
    "    # 定义激活函数，这里使用阶跃函数\n",
    "    def activation_fn(self, x):\n",
    "        return 1 if x >= 0 else 0  # 如果输入大于等于0，返回1，否则返回0\n",
    "\n",
    "    # 定义预测函数\n",
    "    def predict(self, x):\n",
    "        z = self.W.T.dot(x)  # 计算加权和\n",
    "        a = self.activation_fn(z + self.b)  # 计算激活函数的输出\n",
    "        return a  # 返回预测结果\n",
    "\n",
    "# 主程序入口\n",
    "if __name__ == '__main__':\n",
    "    # 定义输入数据集\n",
    "    X = np.array([\n",
    "        [0, 0],\n",
    "        [0, 1],\n",
    "        [1, 0],\n",
    "        [1, 1]\n",
    "    ])\n",
    "\n",
    "    # 创建一个感知机实例\n",
    "    perceptron = Perceptron(input_size=2)\n",
    "    # 打印权重和偏置\n",
    "    print(perceptron.W, perceptron.b)\n",
    "    # 遍历输入数据集\n",
    "    for x in X:\n",
    "        # 对每个输入进行预测\n",
    "        pre = perceptron.predict(x)\n",
    "        # 打印预测结果\n",
    "        print(x[0], 'and', x[1], '=',  pre)"
   ]
  },
  {
   "attachments": {},
   "cell_type": "markdown",
   "metadata": {},
   "source": [
    "## Or\n",
    "self.b = -1 # 初始化偏置为-1"
   ]
  },
  {
   "cell_type": "code",
   "execution_count": 2,
   "metadata": {},
   "outputs": [
    {
     "name": "stdout",
     "output_type": "stream",
     "text": [
      "[1 1] -1\n",
      "0 or 0 = 0\n",
      "0 or 1 = 1\n",
      "1 or 0 = 1\n",
      "1 or 1 = 1\n"
     ]
    }
   ],
   "source": [
    "# 导入NumPy库，用于处理数组和矩阵运算\n",
    "import numpy as np\n",
    "\n",
    "# 定义一个感知机类\n",
    "class Perceptron(object):\n",
    "    \"\"\"Implements a perceptron network\"\"\"\n",
    "\n",
    "    # 构造函数，初始化权重和偏置\n",
    "    def __init__(self, input_size):\n",
    "        self.W = np.array([1, 1])  # 初始化权重为[1, 1]\n",
    "        self.b = -1 # 初始化偏置为-1\n",
    "\n",
    "    # 定义激活函数，这里使用阶跃函数\n",
    "    def activation_fn(self, x):\n",
    "        return 1 if x >= 0 else 0  # 如果输入大于等于0，返回1，否则返回0\n",
    "\n",
    "    # 定义预测函数\n",
    "    def predict(self, x):\n",
    "        z = self.W.T.dot(x)  # 计算加权和\n",
    "        a = self.activation_fn(z + self.b)  # 计算激活函数的输出\n",
    "        return a  # 返回预测结果\n",
    "\n",
    "# 主程序入口\n",
    "if __name__ == '__main__':\n",
    "    # 定义输入数据集\n",
    "    X = np.array([\n",
    "        [0, 0],\n",
    "        [0, 1],\n",
    "        [1, 0],\n",
    "        [1, 1]\n",
    "    ])\n",
    "\n",
    "    # 创建一个感知机实例\n",
    "    perceptron = Perceptron(input_size=2)\n",
    "    # 打印权重和偏置\n",
    "    print(perceptron.W, perceptron.b)\n",
    "    # 遍历输入数据集\n",
    "    for x in X:\n",
    "        # 对每个输入进行预测\n",
    "        pre = perceptron.predict(x)\n",
    "        # 打印预测结果\n",
    "        print(x[0], 'or', x[1], '=',  pre)"
   ]
  }
 ],
 "metadata": {
  "kernelspec": {
   "display_name": "Python 3",
   "language": "python",
   "name": "python3"
  },
  "language_info": {
   "codemirror_mode": {
    "name": "ipython",
    "version": 3
   },
   "file_extension": ".py",
   "mimetype": "text/x-python",
   "name": "python",
   "nbconvert_exporter": "python",
   "pygments_lexer": "ipython3",
   "version": "3.10.4"
  },
  "orig_nbformat": 4
 },
 "nbformat": 4,
 "nbformat_minor": 2
}
