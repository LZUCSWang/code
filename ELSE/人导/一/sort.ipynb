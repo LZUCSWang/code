{
 "cells": [
  {
   "attachments": {},
   "cell_type": "markdown",
   "metadata": {},
   "source": [
    "### 代码运行和结果"
   ]
  },
  {
   "cell_type": "code",
   "execution_count": 1,
   "metadata": {},
   "outputs": [
    {
     "name": "stdout",
     "output_type": "stream",
     "text": [
      "冒泡排序\n",
      "[1, 2, 5, 8, 66, 123]\n"
     ]
    }
   ],
   "source": [
    "!BubbleSort.py"
   ]
  },
  {
   "attachments": {},
   "cell_type": "markdown",
   "metadata": {},
   "source": [
    "### 代码注释"
   ]
  },
  {
   "cell_type": "code",
   "execution_count": 2,
   "metadata": {},
   "outputs": [
    {
     "name": "stdout",
     "output_type": "stream",
     "text": [
      "冒泡排序\n",
      "[1, 2, 5, 8, 66, 123]\n"
     ]
    }
   ],
   "source": [
    "# -*- coding: utf-8 -*-\n",
    "# BubbleSort.py\n",
    "# 冒泡排序\n",
    "list = [8, 1, 2, 66, 5, 123]  # 定义一个列表\n",
    "\n",
    "\n",
    "def BubbleSort():  # 定义一个冒泡排序函数\n",
    "    for i in range(len(list)):  # 外层循环遍历整个列表\n",
    "        for j in range(i):  # 内层循环遍历剩余未排序的部分\n",
    "            if list[j] > list[j+1]:  # 如果相邻两个数大小颠倒，就交换它们的位置\n",
    "                list[j], list[j+1] = list[j+1], list[j]\n",
    "    return list  # 返回排序后的列表\n",
    "\n",
    "\n",
    "print(\"冒泡排序\")\n",
    "list = BubbleSort()  # 调用排序函数对列表进行排序，并将结果存储在原列表中\n",
    "print(list)  # 输出排序后的列表\n"
   ]
  }
 ],
 "metadata": {
  "kernelspec": {
   "display_name": "Python 3",
   "language": "python",
   "name": "python3"
  },
  "language_info": {
   "codemirror_mode": {
    "name": "ipython",
    "version": 3
   },
   "file_extension": ".py",
   "mimetype": "text/x-python",
   "name": "python",
   "nbconvert_exporter": "python",
   "pygments_lexer": "ipython3",
   "version": "3.10.4"
  },
  "orig_nbformat": 4
 },
 "nbformat": 4,
 "nbformat_minor": 2
}
