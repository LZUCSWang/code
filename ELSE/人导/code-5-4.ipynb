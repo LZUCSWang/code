{
 "cells": [
  {
   "attachments": {},
   "cell_type": "markdown",
   "metadata": {},
   "source": [
    "# Multiple Linear Regression\n",
    "这个代码演示了多元线性回归的例子。它使用了波士顿房价数据集，并使用线性回归模型来预测房价。"
   ]
  },
  {
   "attachments": {},
   "cell_type": "markdown",
   "metadata": {},
   "source": [
    "## 导入库"
   ]
  },
  {
   "cell_type": "code",
   "execution_count": 2,
   "metadata": {},
   "outputs": [],
   "source": [
    "from sklearn.datasets import load_boston  # 导入波士顿房价数据集\n",
    "from sklearn.linear_model import LinearRegression  # 导入线性回归模型\n",
    "import matplotlib.pyplot as plt  # 导入绘图模块\n",
    "from sklearn.model_selection import train_test_split\n"
   ]
  },
  {
   "attachments": {},
   "cell_type": "markdown",
   "metadata": {},
   "source": [
    "## 导入数据"
   ]
  },
  {
   "cell_type": "code",
   "execution_count": 3,
   "metadata": {},
   "outputs": [
    {
     "name": "stdout",
     "output_type": "stream",
     "text": [
      "dict_keys(['data', 'target', 'feature_names', 'DESCR', 'filename', 'data_module'])\n"
     ]
    },
    {
     "name": "stderr",
     "output_type": "stream",
     "text": [
      "C:\\Users\\29492\\AppData\\Roaming\\Python\\Python310\\site-packages\\sklearn\\utils\\deprecation.py:87: FutureWarning: Function load_boston is deprecated; `load_boston` is deprecated in 1.0 and will be removed in 1.2.\n",
      "\n",
      "    The Boston housing prices dataset has an ethical problem. You can refer to\n",
      "    the documentation of this function for further details.\n",
      "\n",
      "    The scikit-learn maintainers therefore strongly discourage the use of this\n",
      "    dataset unless the purpose of the code is to study and educate about\n",
      "    ethical issues in data science and machine learning.\n",
      "\n",
      "    In this special case, you can fetch the dataset from the original\n",
      "    source::\n",
      "\n",
      "        import pandas as pd\n",
      "        import numpy as np\n",
      "\n",
      "\n",
      "        data_url = \"http://lib.stat.cmu.edu/datasets/boston\"\n",
      "        raw_df = pd.read_csv(data_url, sep=\"\\s+\", skiprows=22, header=None)\n",
      "        data = np.hstack([raw_df.values[::2, :], raw_df.values[1::2, :2]])\n",
      "        target = raw_df.values[1::2, 2]\n",
      "\n",
      "    Alternative datasets include the California housing dataset (i.e.\n",
      "    :func:`~sklearn.datasets.fetch_california_housing`) and the Ames housing\n",
      "    dataset. You can load the datasets as follows::\n",
      "\n",
      "        from sklearn.datasets import fetch_california_housing\n",
      "        housing = fetch_california_housing()\n",
      "\n",
      "    for the California housing dataset and::\n",
      "\n",
      "        from sklearn.datasets import fetch_openml\n",
      "        housing = fetch_openml(name=\"house_prices\", as_frame=True)\n",
      "\n",
      "    for the Ames housing dataset.\n",
      "    \n",
      "  warnings.warn(msg, category=FutureWarning)\n"
     ]
    }
   ],
   "source": [
    "dataset = load_boston()\n",
    "x_data = dataset.data  # 导入所有特征变量\n",
    "y_data = dataset.target  # 导入目标值（房价）\n",
    "name_data = dataset.feature_names  # 导入特征"
   ]
  },
  {
   "attachments": {},
   "cell_type": "markdown",
   "metadata": {},
   "source": [
    "## 划分训练集和测试集"
   ]
  },
  {
   "cell_type": "code",
   "execution_count": 4,
   "metadata": {},
   "outputs": [],
   "source": [
    "x_train, x_test, y_train, y_test = train_test_split(\n",
    "    x_data, y_data, test_size=0.25, random_state=1001)  # 划分训练集和测试集\n"
   ]
  },
  {
   "attachments": {},
   "cell_type": "markdown",
   "metadata": {},
   "source": [
    "## 创建线性回归模型并拟合数据"
   ]
  },
  {
   "cell_type": "code",
   "execution_count": 5,
   "metadata": {},
   "outputs": [
    {
     "data": {
      "text/plain": [
       "LinearRegression()"
      ]
     },
     "execution_count": 5,
     "metadata": {},
     "output_type": "execute_result"
    }
   ],
   "source": [
    "mlr_model = LinearRegression()\n",
    "mlr_model.fit(x_train, y_train)  # 训练模型\n"
   ]
  },
  {
   "attachments": {},
   "cell_type": "markdown",
   "metadata": {},
   "source": [
    "## 对测试集进行预测并绘制结果\n",
    "通过绘制这两个散点图，我们可以观察到实际房价与模型预测房价之间的差异，从而评估模型的拟合效果。如果散点图中的点分布比较接近一条直线，并且红色点和蓝色点的分布趋势相似，那么说明模型对房价的预测相对准确；如果散点图中的点分布比较分散或者红色点和蓝色点的分布趋势不一致，那么说明模型的预测可能存在较大的误差。"
   ]
  },
  {
   "cell_type": "code",
   "execution_count": 6,
   "metadata": {},
   "outputs": [
    {
     "data": {
      "image/png": "[encoded data removed]",
      "text/plain": [
       "<Figure size 640x480 with 1 Axes>"
      ]
     },
     "metadata": {},
     "output_type": "display_data"
    }
   ],
   "source": [
    "y_test_p = mlr_model.predict(x_test)  # 预测测试集\n",
    "\n",
    "plt.subplot(1, 1, 1)\n",
    "# 绘制了红色的散点图，其中横坐标为 x_test 数据集中的第 5 列（即第 6 个特征变量，因为 Python 中的索引是从 0 开始的），纵坐标为 y_test 数据集（房价）。这个散点图表示了实际房价与第 6 个特征变量（房间数量）之间的关系。\n",
    "plt.scatter(x_test[:, 5], y_test, s=20, color=\"r\")\n",
    "# 绘制了蓝色的散点图，其中横坐标同样是 x_test 数据集中的第 5 列，纵坐标是通过训练好的线性回归模型 mlr_model 对 x_test 数据集进行预测得到的预测值 y_test_p。这个散点图表示了模型对房价的预测值与第 6 个特征变量（房间数量）之间的关系。\n",
    "plt.scatter(x_test[:, 5], y_test_p, s=20, color=\"b\")\n",
    "plt.xlabel('Room Number')\n",
    "plt.ylabel('Price')\n",
    "plt.title(name_data[5])\n",
    "plt.show()\n"
   ]
  },
  {
   "attachments": {},
   "cell_type": "markdown",
   "metadata": {},
   "source": [
    "## 计算回归模型的确定系数（coefficient of determination）\n",
    "确定系数是衡量回归模型拟合优度的指标，其取值范围在0到1之间。该值越接近1，表示模型对观测数据的解释能力越强，拟合效果越好；而越接近0，则表示模型的解释能力较弱，拟合效果较差。"
   ]
  },
  {
   "cell_type": "code",
   "execution_count": 7,
   "metadata": {},
   "outputs": [
    {
     "name": "stdout",
     "output_type": "stream",
     "text": [
      "R2 = 0.6783942923302057\n"
     ]
    }
   ],
   "source": [
    "r_squared = mlr_model.score(x_test, y_test) \n",
    "print('R2 = %s' % r_squared)\n"
   ]
  }
 ],
 "metadata": {
  "kernelspec": {
   "display_name": "Python 3",
   "language": "python",
   "name": "python3"
  },
  "language_info": {
   "codemirror_mode": {
    "name": "ipython",
    "version": 3
   },
   "file_extension": ".py",
   "mimetype": "text/x-python",
   "name": "python",
   "nbconvert_exporter": "python",
   "pygments_lexer": "ipython3",
   "version": "3.10.4"
  },
  "orig_nbformat": 4
 },
 "nbformat": 4,
 "nbformat_minor": 2
}
